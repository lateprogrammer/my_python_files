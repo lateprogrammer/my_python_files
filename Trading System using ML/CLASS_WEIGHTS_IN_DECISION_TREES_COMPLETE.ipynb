{
 "cells": [
  {
   "cell_type": "markdown",
   "metadata": {},
   "source": [
    "# Notebook Instructions\n",
    "\n",
    "This notebook is incomplete. GOTO MODIFY and follow instructions to complete the notebook.\n",
    "You can run the notebook document sequentially (one cell at a time) by pressing shift + enter. While a cell is running, a [*] will display on the left. When it has been run, a number will display indicating the order in which it was run in the notebook [8].\n",
    "\n",
    "Enter edit mode by pressing Enter or using the mouse to click on a cell's editor area. Edit mode is indicated by a green cell border and a prompt showing in the editor area."
   ]
  },
  {
   "cell_type": "markdown",
   "metadata": {},
   "source": [
    "## Class Weights in Decision Trees"
   ]
  },
  {
   "cell_type": "markdown",
   "metadata": {},
   "source": [
    "When we are building a decision tree model, it can happen that the dataset provided to the model may have very less data points for its most important classes. In such an instance, the decision tree algorithm will try to maximize the accuracy of the most common labels. \n",
    "\n",
    "In order to adjust for this issue, we re-assign weights to the data points of the most important labels. This can be done in the scikit-library using the class_weight argument to the decision tree classifier. Let us take an example to illustrate this."
   ]
  },
  {
   "cell_type": "markdown",
   "metadata": {},
   "source": [
    "#### Example:\n",
    "\n",
    "We will input raw data of ACC Ltd. stock from a csv file. The data consists of Open-High-Low-Close prices and Volume data. Predictor and target variables are created using this raw data. "
   ]
  },
  {
   "cell_type": "code",
   "execution_count": 1,
   "metadata": {},
   "outputs": [
    {
     "data": {
      "text/html": [
       "<div>\n",
       "<style scoped>\n",
       "    .dataframe tbody tr th:only-of-type {\n",
       "        vertical-align: middle;\n",
       "    }\n",
       "\n",
       "    .dataframe tbody tr th {\n",
       "        vertical-align: top;\n",
       "    }\n",
       "\n",
       "    .dataframe thead th {\n",
       "        text-align: right;\n",
       "    }\n",
       "</style>\n",
       "<table border=\"1\" class=\"dataframe\">\n",
       "  <thead>\n",
       "    <tr style=\"text-align: right;\">\n",
       "      <th></th>\n",
       "      <th>Date</th>\n",
       "      <th>OPEN</th>\n",
       "      <th>HIGH</th>\n",
       "      <th>LOW</th>\n",
       "      <th>CLOSE</th>\n",
       "    </tr>\n",
       "  </thead>\n",
       "  <tbody>\n",
       "    <tr>\n",
       "      <th>243</th>\n",
       "      <td>6/11/2018</td>\n",
       "      <td>1315.9</td>\n",
       "      <td>1338.8</td>\n",
       "      <td>1311.3</td>\n",
       "      <td>1320.2</td>\n",
       "    </tr>\n",
       "    <tr>\n",
       "      <th>244</th>\n",
       "      <td>6/12/2018</td>\n",
       "      <td>1321.0</td>\n",
       "      <td>1329.4</td>\n",
       "      <td>1306.6</td>\n",
       "      <td>1315.7</td>\n",
       "    </tr>\n",
       "    <tr>\n",
       "      <th>245</th>\n",
       "      <td>6/13/2018</td>\n",
       "      <td>1317.3</td>\n",
       "      <td>1349.4</td>\n",
       "      <td>1311.6</td>\n",
       "      <td>1331.0</td>\n",
       "    </tr>\n",
       "    <tr>\n",
       "      <th>246</th>\n",
       "      <td>6/14/2018</td>\n",
       "      <td>1331.0</td>\n",
       "      <td>1333.3</td>\n",
       "      <td>1304.4</td>\n",
       "      <td>1307.2</td>\n",
       "    </tr>\n",
       "    <tr>\n",
       "      <th>247</th>\n",
       "      <td>6/15/2018</td>\n",
       "      <td>1309.7</td>\n",
       "      <td>1314.9</td>\n",
       "      <td>1295.0</td>\n",
       "      <td>1302.1</td>\n",
       "    </tr>\n",
       "  </tbody>\n",
       "</table>\n",
       "</div>"
      ],
      "text/plain": [
       "          Date    OPEN    HIGH     LOW   CLOSE\n",
       "243  6/11/2018  1315.9  1338.8  1311.3  1320.2\n",
       "244  6/12/2018  1321.0  1329.4  1306.6  1315.7\n",
       "245  6/13/2018  1317.3  1349.4  1311.6  1331.0\n",
       "246  6/14/2018  1331.0  1333.3  1304.4  1307.2\n",
       "247  6/15/2018  1309.7  1314.9  1295.0  1302.1"
      ]
     },
     "execution_count": 1,
     "metadata": {},
     "output_type": "execute_result"
    }
   ],
   "source": [
    "import pandas as pd\n",
    "df = pd.read_csv(\"ACC.csv\")\n",
    "\n",
    "df.tail()"
   ]
  },
  {
   "cell_type": "markdown",
   "metadata": {},
   "source": [
    "#### Computing Technical Indicators and Daily Future Returns\n",
    "\n",
    "We compute the values for the Average Directional Index (ADI), Relative Strength Index (RSI), and Simple Moving Average (SMA) using the TA-Lib package. These will be used as predictor variables in the decision tree model. Next, we compute the daily future returns on the close price. The code is shown below.\n"
   ]
  },
  {
   "cell_type": "code",
   "execution_count": 2,
   "metadata": {},
   "outputs": [
    {
     "data": {
      "text/html": [
       "<div>\n",
       "<style scoped>\n",
       "    .dataframe tbody tr th:only-of-type {\n",
       "        vertical-align: middle;\n",
       "    }\n",
       "\n",
       "    .dataframe tbody tr th {\n",
       "        vertical-align: top;\n",
       "    }\n",
       "\n",
       "    .dataframe thead th {\n",
       "        text-align: right;\n",
       "    }\n",
       "</style>\n",
       "<table border=\"1\" class=\"dataframe\">\n",
       "  <thead>\n",
       "    <tr style=\"text-align: right;\">\n",
       "      <th></th>\n",
       "      <th>Date</th>\n",
       "      <th>OPEN</th>\n",
       "      <th>HIGH</th>\n",
       "      <th>LOW</th>\n",
       "      <th>CLOSE</th>\n",
       "      <th>ADX</th>\n",
       "      <th>RSI</th>\n",
       "      <th>SMA</th>\n",
       "      <th>Return</th>\n",
       "    </tr>\n",
       "  </thead>\n",
       "  <tbody>\n",
       "    <tr>\n",
       "      <th>242</th>\n",
       "      <td>6/8/2018</td>\n",
       "      <td>1314.0</td>\n",
       "      <td>1325.6</td>\n",
       "      <td>1305.5</td>\n",
       "      <td>1315.1</td>\n",
       "      <td>34.818493</td>\n",
       "      <td>34.913609</td>\n",
       "      <td>1342.575</td>\n",
       "      <td>0.003878</td>\n",
       "    </tr>\n",
       "    <tr>\n",
       "      <th>243</th>\n",
       "      <td>6/11/2018</td>\n",
       "      <td>1315.9</td>\n",
       "      <td>1338.8</td>\n",
       "      <td>1311.3</td>\n",
       "      <td>1320.2</td>\n",
       "      <td>33.309646</td>\n",
       "      <td>36.468425</td>\n",
       "      <td>1336.025</td>\n",
       "      <td>-0.003409</td>\n",
       "    </tr>\n",
       "    <tr>\n",
       "      <th>244</th>\n",
       "      <td>6/12/2018</td>\n",
       "      <td>1321.0</td>\n",
       "      <td>1329.4</td>\n",
       "      <td>1306.6</td>\n",
       "      <td>1315.7</td>\n",
       "      <td>32.050041</td>\n",
       "      <td>35.658985</td>\n",
       "      <td>1331.225</td>\n",
       "      <td>0.011629</td>\n",
       "    </tr>\n",
       "    <tr>\n",
       "      <th>245</th>\n",
       "      <td>6/13/2018</td>\n",
       "      <td>1317.3</td>\n",
       "      <td>1349.4</td>\n",
       "      <td>1311.6</td>\n",
       "      <td>1331.0</td>\n",
       "      <td>30.094175</td>\n",
       "      <td>40.494969</td>\n",
       "      <td>1327.235</td>\n",
       "      <td>-0.017881</td>\n",
       "    </tr>\n",
       "    <tr>\n",
       "      <th>246</th>\n",
       "      <td>6/14/2018</td>\n",
       "      <td>1331.0</td>\n",
       "      <td>1333.3</td>\n",
       "      <td>1304.4</td>\n",
       "      <td>1307.2</td>\n",
       "      <td>28.520287</td>\n",
       "      <td>35.966371</td>\n",
       "      <td>1322.570</td>\n",
       "      <td>-0.003901</td>\n",
       "    </tr>\n",
       "  </tbody>\n",
       "</table>\n",
       "</div>"
      ],
      "text/plain": [
       "          Date    OPEN    HIGH     LOW   CLOSE        ADX        RSI  \\\n",
       "242   6/8/2018  1314.0  1325.6  1305.5  1315.1  34.818493  34.913609   \n",
       "243  6/11/2018  1315.9  1338.8  1311.3  1320.2  33.309646  36.468425   \n",
       "244  6/12/2018  1321.0  1329.4  1306.6  1315.7  32.050041  35.658985   \n",
       "245  6/13/2018  1317.3  1349.4  1311.6  1331.0  30.094175  40.494969   \n",
       "246  6/14/2018  1331.0  1333.3  1304.4  1307.2  28.520287  35.966371   \n",
       "\n",
       "          SMA    Return  \n",
       "242  1342.575  0.003878  \n",
       "243  1336.025 -0.003409  \n",
       "244  1331.225  0.011629  \n",
       "245  1327.235 -0.017881  \n",
       "246  1322.570 -0.003901  "
      ]
     },
     "execution_count": 2,
     "metadata": {},
     "output_type": "execute_result"
    }
   ],
   "source": [
    "import numpy as np\n",
    "import talib as ta \n",
    "\n",
    "df['ADX'] = ta.ADX(df['HIGH'].values, df['LOW'].values, df['CLOSE'].values, timeperiod=14)\n",
    "df['RSI'] = ta.RSI(df['CLOSE'].values, timeperiod=14)\n",
    "df['SMA'] = ta.SMA(df['CLOSE'].values, timeperiod=20)\n",
    "\n",
    "df['Return'] = df['CLOSE'].pct_change(1).shift(-1)  \n",
    "df = df.dropna()\n",
    "\n",
    "df.tail()"
   ]
  },
  {
   "cell_type": "markdown",
   "metadata": {},
   "source": [
    "#### Categorize Returns into Multiple Classes\n",
    "\n",
    "We define a function called 'returns_to_class' using nested If..else statement to categorize returns into multiple classes. We also specify the range for the returns for each class in this function. This function is then applied on our dataframe, df to get the multi-class target variable.\n"
   ]
  },
  {
   "cell_type": "code",
   "execution_count": 3,
   "metadata": {},
   "outputs": [
    {
     "data": {
      "text/html": [
       "<div>\n",
       "<style scoped>\n",
       "    .dataframe tbody tr th:only-of-type {\n",
       "        vertical-align: middle;\n",
       "    }\n",
       "\n",
       "    .dataframe tbody tr th {\n",
       "        vertical-align: top;\n",
       "    }\n",
       "\n",
       "    .dataframe thead th {\n",
       "        text-align: right;\n",
       "    }\n",
       "</style>\n",
       "<table border=\"1\" class=\"dataframe\">\n",
       "  <thead>\n",
       "    <tr style=\"text-align: right;\">\n",
       "      <th></th>\n",
       "      <th>Date</th>\n",
       "      <th>OPEN</th>\n",
       "      <th>HIGH</th>\n",
       "      <th>LOW</th>\n",
       "      <th>CLOSE</th>\n",
       "      <th>ADX</th>\n",
       "      <th>RSI</th>\n",
       "      <th>SMA</th>\n",
       "      <th>Return</th>\n",
       "      <th>Class</th>\n",
       "    </tr>\n",
       "  </thead>\n",
       "  <tbody>\n",
       "    <tr>\n",
       "      <th>242</th>\n",
       "      <td>6/8/2018</td>\n",
       "      <td>1314.0</td>\n",
       "      <td>1325.6</td>\n",
       "      <td>1305.5</td>\n",
       "      <td>1315.1</td>\n",
       "      <td>34.818493</td>\n",
       "      <td>34.913609</td>\n",
       "      <td>1342.575</td>\n",
       "      <td>0.003878</td>\n",
       "      <td>1</td>\n",
       "    </tr>\n",
       "    <tr>\n",
       "      <th>243</th>\n",
       "      <td>6/11/2018</td>\n",
       "      <td>1315.9</td>\n",
       "      <td>1338.8</td>\n",
       "      <td>1311.3</td>\n",
       "      <td>1320.2</td>\n",
       "      <td>33.309646</td>\n",
       "      <td>36.468425</td>\n",
       "      <td>1336.025</td>\n",
       "      <td>-0.003409</td>\n",
       "      <td>0</td>\n",
       "    </tr>\n",
       "    <tr>\n",
       "      <th>244</th>\n",
       "      <td>6/12/2018</td>\n",
       "      <td>1321.0</td>\n",
       "      <td>1329.4</td>\n",
       "      <td>1306.6</td>\n",
       "      <td>1315.7</td>\n",
       "      <td>32.050041</td>\n",
       "      <td>35.658985</td>\n",
       "      <td>1331.225</td>\n",
       "      <td>0.011629</td>\n",
       "      <td>1</td>\n",
       "    </tr>\n",
       "    <tr>\n",
       "      <th>245</th>\n",
       "      <td>6/13/2018</td>\n",
       "      <td>1317.3</td>\n",
       "      <td>1349.4</td>\n",
       "      <td>1311.6</td>\n",
       "      <td>1331.0</td>\n",
       "      <td>30.094175</td>\n",
       "      <td>40.494969</td>\n",
       "      <td>1327.235</td>\n",
       "      <td>-0.017881</td>\n",
       "      <td>0</td>\n",
       "    </tr>\n",
       "    <tr>\n",
       "      <th>246</th>\n",
       "      <td>6/14/2018</td>\n",
       "      <td>1331.0</td>\n",
       "      <td>1333.3</td>\n",
       "      <td>1304.4</td>\n",
       "      <td>1307.2</td>\n",
       "      <td>28.520287</td>\n",
       "      <td>35.966371</td>\n",
       "      <td>1322.570</td>\n",
       "      <td>-0.003901</td>\n",
       "      <td>0</td>\n",
       "    </tr>\n",
       "  </tbody>\n",
       "</table>\n",
       "</div>"
      ],
      "text/plain": [
       "          Date    OPEN    HIGH     LOW   CLOSE        ADX        RSI  \\\n",
       "242   6/8/2018  1314.0  1325.6  1305.5  1315.1  34.818493  34.913609   \n",
       "243  6/11/2018  1315.9  1338.8  1311.3  1320.2  33.309646  36.468425   \n",
       "244  6/12/2018  1321.0  1329.4  1306.6  1315.7  32.050041  35.658985   \n",
       "245  6/13/2018  1317.3  1349.4  1311.6  1331.0  30.094175  40.494969   \n",
       "246  6/14/2018  1331.0  1333.3  1304.4  1307.2  28.520287  35.966371   \n",
       "\n",
       "          SMA    Return  Class  \n",
       "242  1342.575  0.003878      1  \n",
       "243  1336.025 -0.003409      0  \n",
       "244  1331.225  0.011629      1  \n",
       "245  1327.235 -0.017881      0  \n",
       "246  1322.570 -0.003901      0  "
      ]
     },
     "execution_count": 3,
     "metadata": {},
     "output_type": "execute_result"
    }
   ],
   "source": [
    "def returns_to_class(df):\n",
    "    if df.Return <= 0.0:\n",
    "        return 0\n",
    "    elif df.Return > 0.0 and df.Return < 0.02:\n",
    "        return 1\n",
    "    elif df.Return > 0.02 and df.Return< 0.03:\n",
    "        return 2\n",
    "    else:\n",
    "        return 3\n",
    "\n",
    "df['Class'] = df.apply(returns_to_class,axis=1)\n",
    "df.tail()"
   ]
  },
  {
   "cell_type": "markdown",
   "metadata": {},
   "source": [
    "#### View the Multi-Class Distribution\n",
    "\n",
    "Once we have defined the different classes for the target variable, we can see their distribution of Returns using the groupby method. As can be observed, out of the total data points majority of them (i.e. 126 data points) belong to '0' class which signifies negative returns. On the other hand, there are only 11 and 1 datapoint belonging to the '2' and the '3' class respectively."
   ]
  },
  {
   "cell_type": "code",
   "execution_count": 4,
   "metadata": {},
   "outputs": [
    {
     "data": {
      "text/html": [
       "<div>\n",
       "<style scoped>\n",
       "    .dataframe tbody tr th:only-of-type {\n",
       "        vertical-align: middle;\n",
       "    }\n",
       "\n",
       "    .dataframe tbody tr th {\n",
       "        vertical-align: top;\n",
       "    }\n",
       "\n",
       "    .dataframe thead th {\n",
       "        text-align: right;\n",
       "    }\n",
       "</style>\n",
       "<table border=\"1\" class=\"dataframe\">\n",
       "  <thead>\n",
       "    <tr style=\"text-align: right;\">\n",
       "      <th></th>\n",
       "      <th>Date</th>\n",
       "      <th>OPEN</th>\n",
       "      <th>HIGH</th>\n",
       "      <th>LOW</th>\n",
       "      <th>CLOSE</th>\n",
       "      <th>ADX</th>\n",
       "      <th>RSI</th>\n",
       "      <th>SMA</th>\n",
       "      <th>Return</th>\n",
       "    </tr>\n",
       "    <tr>\n",
       "      <th>Class</th>\n",
       "      <th></th>\n",
       "      <th></th>\n",
       "      <th></th>\n",
       "      <th></th>\n",
       "      <th></th>\n",
       "      <th></th>\n",
       "      <th></th>\n",
       "      <th></th>\n",
       "      <th></th>\n",
       "    </tr>\n",
       "  </thead>\n",
       "  <tbody>\n",
       "    <tr>\n",
       "      <th>0</th>\n",
       "      <td>126</td>\n",
       "      <td>126</td>\n",
       "      <td>126</td>\n",
       "      <td>126</td>\n",
       "      <td>126</td>\n",
       "      <td>126</td>\n",
       "      <td>126</td>\n",
       "      <td>126</td>\n",
       "      <td>126</td>\n",
       "    </tr>\n",
       "    <tr>\n",
       "      <th>1</th>\n",
       "      <td>82</td>\n",
       "      <td>82</td>\n",
       "      <td>82</td>\n",
       "      <td>82</td>\n",
       "      <td>82</td>\n",
       "      <td>82</td>\n",
       "      <td>82</td>\n",
       "      <td>82</td>\n",
       "      <td>82</td>\n",
       "    </tr>\n",
       "    <tr>\n",
       "      <th>2</th>\n",
       "      <td>9</td>\n",
       "      <td>9</td>\n",
       "      <td>9</td>\n",
       "      <td>9</td>\n",
       "      <td>9</td>\n",
       "      <td>9</td>\n",
       "      <td>9</td>\n",
       "      <td>9</td>\n",
       "      <td>9</td>\n",
       "    </tr>\n",
       "    <tr>\n",
       "      <th>3</th>\n",
       "      <td>3</td>\n",
       "      <td>3</td>\n",
       "      <td>3</td>\n",
       "      <td>3</td>\n",
       "      <td>3</td>\n",
       "      <td>3</td>\n",
       "      <td>3</td>\n",
       "      <td>3</td>\n",
       "      <td>3</td>\n",
       "    </tr>\n",
       "  </tbody>\n",
       "</table>\n",
       "</div>"
      ],
      "text/plain": [
       "       Date  OPEN  HIGH  LOW  CLOSE  ADX  RSI  SMA  Return\n",
       "Class                                                     \n",
       "0       126   126   126  126    126  126  126  126     126\n",
       "1        82    82    82   82     82   82   82   82      82\n",
       "2         9     9     9    9      9    9    9    9       9\n",
       "3         3     3     3    3      3    3    3    3       3"
      ]
     },
     "execution_count": 4,
     "metadata": {},
     "output_type": "execute_result"
    }
   ],
   "source": [
    "df.groupby('Class').count()"
   ]
  },
  {
   "cell_type": "markdown",
   "metadata": {},
   "source": [
    "#### Create Predictor Variables and Target Variable\n",
    "\n",
    "Let us now define our predictors variables, X and the target variable, y for building a decision tree model."
   ]
  },
  {
   "cell_type": "code",
   "execution_count": 5,
   "metadata": {},
   "outputs": [],
   "source": [
    "X = df[['ADX','RSI','SMA']]\n",
    "y = df.Class"
   ]
  },
  {
   "cell_type": "markdown",
   "metadata": {},
   "source": [
    "  \n",
    "We will consider two scenarios:   \n",
    "\n",
    "1) Building a decision tree model without applying the class weights and    \n",
    "2) Building a decision tree model with class weights.\n"
   ]
  },
  {
   "cell_type": "markdown",
   "metadata": {},
   "source": [
    "### Scenario 1 - Build a decision tree model without applying the Class weights "
   ]
  },
  {
   "cell_type": "code",
   "execution_count": 6,
   "metadata": {},
   "outputs": [
    {
     "name": "stdout",
     "output_type": "stream",
     "text": [
      "              precision    recall  f1-score   support\n",
      "\n",
      "           0       0.55      0.87      0.67        38\n",
      "           1       0.00      0.00      0.00        24\n",
      "           2       0.00      0.00      0.00         3\n",
      "           3       0.00      0.00      0.00         1\n",
      "\n",
      "   micro avg       0.50      0.50      0.50        66\n",
      "   macro avg       0.14      0.22      0.17        66\n",
      "weighted avg       0.32      0.50      0.39        66\n",
      "\n"
     ]
    },
    {
     "name": "stderr",
     "output_type": "stream",
     "text": [
      "C:\\Users\\manig\\Anaconda3\\lib\\site-packages\\sklearn\\metrics\\classification.py:1143: UndefinedMetricWarning: Precision and F-score are ill-defined and being set to 0.0 in labels with no predicted samples.\n",
      "  'precision', 'predicted', average, warn_for)\n"
     ]
    }
   ],
   "source": [
    "# Split into Train and Test datasets \n",
    "from sklearn.model_selection import train_test_split\n",
    "X_train, X_test, y_train, y_test = train_test_split(X, y, test_size=0.3,random_state=42,stratify=y)\n",
    "  \n",
    "#print (X_train.shape, y_train.shape)\n",
    "#print (X_test.shape, y_test.shape)\n",
    "\n",
    "# Fit a model on train data\n",
    "from sklearn.tree import DecisionTreeClassifier\n",
    "clf = DecisionTreeClassifier(criterion='gini', max_depth=3, min_samples_leaf=5) \n",
    "clf = clf.fit(X_train, y_train)\n",
    "\n",
    "# Use the trained model to make predictions on the test data\n",
    "y_pred = clf.predict(X_test)  \n",
    "  \n",
    "# Evaluate the model performance \n",
    "from sklearn.metrics import classification_report\n",
    "report = classification_report(y_test, y_pred)\n",
    "print (report)"
   ]
  },
  {
   "cell_type": "code",
   "execution_count": 7,
   "metadata": {},
   "outputs": [
    {
     "data": {
      "text/plain": [
       "array([[33,  5,  0,  0],\n",
       "       [24,  0,  0,  0],\n",
       "       [ 2,  1,  0,  0],\n",
       "       [ 1,  0,  0,  0]], dtype=int64)"
      ]
     },
     "execution_count": 7,
     "metadata": {},
     "output_type": "execute_result"
    }
   ],
   "source": [
    "from sklearn.metrics import confusion_matrix\n",
    "confusion_matrix(y_test, y_pred)"
   ]
  },
  {
   "cell_type": "markdown",
   "metadata": {},
   "source": [
    "As can be seen from the output of the classification report, the decision tree algorithm tries to maximize the accuracy of the most common labels and does not give good predictions on the underrepresented labels."
   ]
  },
  {
   "cell_type": "markdown",
   "metadata": {},
   "source": [
    "### Scenario 2 - Build a decision tree model with Class weights "
   ]
  },
  {
   "cell_type": "markdown",
   "metadata": {},
   "source": [
    "MODIFY:\n",
    "Let us use the class_weight parameter when defining the decision tree classifier to correct for the underrepresented labels.  Read https://towardsdatascience.com/practical-tips-for-class-imbalance-in-binary-classification-6ee29bcdb8a7 and set the class_weight parameter of the decision tree classifier appropriately do so as to cause the classes to appear with equal frequency.\n",
    "\n",
    "As can be seen from the output of the classification report, using of class weight makes the decision tree algorithm achieve higher accuracy on the underrepresented labels which were labels '2'and '3' in this case."
   ]
  },
  {
   "cell_type": "code",
   "execution_count": 8,
   "metadata": {},
   "outputs": [
    {
     "name": "stdout",
     "output_type": "stream",
     "text": [
      "              precision    recall  f1-score   support\n",
      "\n",
      "           0       0.64      0.24      0.35        38\n",
      "           1       0.29      0.08      0.13        24\n",
      "           2       0.03      0.33      0.05         3\n",
      "           3       0.20      1.00      0.33         1\n",
      "\n",
      "   micro avg       0.20      0.20      0.20        66\n",
      "   macro avg       0.29      0.41      0.21        66\n",
      "weighted avg       0.48      0.20      0.25        66\n",
      "\n"
     ]
    }
   ],
   "source": [
    "# Split into Train and Test datasets \n",
    "from sklearn.model_selection import train_test_split\n",
    "X_train, X_test, y_train, y_test = train_test_split(X, y, test_size=0.3,random_state=42,stratify=y)\n",
    "\n",
    "\n",
    "# Fit a model on train data\n",
    "from sklearn.tree import DecisionTreeClassifier\n",
    "clf = DecisionTreeClassifier(criterion = 'gini', max_depth = 3, min_samples_leaf = 5, class_weight = 'balanced') \n",
    "clf = clf.fit(X_train, y_train)\n",
    "\n",
    "# Use the trained model to make predictions on the test data\n",
    "y_pred = clf.predict(X_test)  \n",
    "  \n",
    "# Evaluate the model performance \n",
    "from sklearn.metrics import classification_report\n",
    "report = classification_report(y_test, y_pred)\n",
    "print (report)"
   ]
  },
  {
   "cell_type": "markdown",
   "metadata": {},
   "source": [
    "----------------------------------------------------------------------------------------------------------------\n",
    "### <font color='red'>ANSWER\n",
    "##### We added a new parameter (class_weight = \"balanced\") to tackle the label imbalance during model declaration\n",
    "----------------------------------------------------------------------------------------------------------------"
   ]
  },
  {
   "cell_type": "code",
   "execution_count": 12,
   "metadata": {},
   "outputs": [
    {
     "name": "stdout",
     "output_type": "stream",
     "text": [
      "[[ 9  4 21  4]\n",
      " [ 4  2 18  0]\n",
      " [ 1  1  1  0]\n",
      " [ 0  0  0  1]]\n"
     ]
    }
   ],
   "source": [
    "# Checking the confusion matrix\n",
    "\n",
    "cm = confusion_matrix(y_test, y_pred)\n",
    "print(cm)"
   ]
  },
  {
   "cell_type": "code",
   "execution_count": 13,
   "metadata": {},
   "outputs": [
    {
     "name": "stdout",
     "output_type": "stream",
     "text": [
      "0.19696969696969696\n"
     ]
    }
   ],
   "source": [
    "# Obtaining the accuracy of the model\n",
    "\n",
    "from sklearn.metrics import accuracy_score\n",
    "acc = accuracy_score(y_test, y_pred)\n",
    "print(acc)"
   ]
  }
 ],
 "metadata": {
  "kernelspec": {
   "display_name": "Python 3",
   "language": "python",
   "name": "python3"
  },
  "language_info": {
   "codemirror_mode": {
    "name": "ipython",
    "version": 3
   },
   "file_extension": ".py",
   "mimetype": "text/x-python",
   "name": "python",
   "nbconvert_exporter": "python",
   "pygments_lexer": "ipython3",
   "version": "3.6.7"
  }
 },
 "nbformat": 4,
 "nbformat_minor": 2
}
