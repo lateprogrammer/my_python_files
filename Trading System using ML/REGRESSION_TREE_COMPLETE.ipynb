{
 "cells": [
  {
   "cell_type": "markdown",
   "metadata": {},
   "source": [
    "# Notebook Instructions\n",
    "THIS NOTEBOOK IS INCOMPLETE. GOTO \"STATE THE RULE BELOW\" AND COMPLETE THE MISSING INFORMATION\n",
    "<i>You can run the notebook document sequentially (one cell at a time) by pressing <b> shift + enter</b>. While a cell is running, a [*] will display on the left. When it has been run, a number will display indicating the order in which it was run in the notebook [8].</i>\n",
    "\n",
    "<i>Enter edit mode by pressing <b>`Enter`</b> or using the mouse to click on a cell's editor area. Edit mode is indicated by a green cell border and a prompt showing in the editor area.</i>"
   ]
  },
  {
   "cell_type": "markdown",
   "metadata": {},
   "source": [
    "# Regression Tree\n",
    "\n",
    "A regression tree automatically selects important predictors and suggests trading rules. In this notebook, we will learn to create a regression tree using Apple Inc. stock. The predictor variables are one-day returns, five-day returns, five-day standard deviation and so on. The target variable is one-day future return. The tree we create will help us create trading rules for when the future return is expected to be positive or negative.\n",
    "<BR>\n",
    "\n",
    "<B>Create a regression tree</B>\n",
    "1. Import the data\n",
    "1. Define predictor variables and a target variable\n",
    "2. Split the data into train and test dataset\n",
    "3. Create a regression tree model using the train data\n",
    "4. Visualize the model\n",
    "\n",
    "<B>Analyzing the performance</B><BR><BR>\n",
    "Part I: Single leaf\n",
    "1. Trading rule based on one leaf node with the highest expected value of a target variable\n",
    "5. Compute performance in the train and test dataset\n",
    "\n",
    "Part II: Full tree\n",
    "1. Trading rule based on all the leaf node\n",
    "5. Compute the performance in the train and test dataset"
   ]
  },
  {
   "cell_type": "markdown",
   "metadata": {},
   "source": [
    "### Import the data"
   ]
  },
  {
   "cell_type": "code",
   "execution_count": 1,
   "metadata": {},
   "outputs": [
    {
     "data": {
      "text/html": [
       "<div>\n",
       "<style scoped>\n",
       "    .dataframe tbody tr th:only-of-type {\n",
       "        vertical-align: middle;\n",
       "    }\n",
       "\n",
       "    .dataframe tbody tr th {\n",
       "        vertical-align: top;\n",
       "    }\n",
       "\n",
       "    .dataframe thead th {\n",
       "        text-align: right;\n",
       "    }\n",
       "</style>\n",
       "<table border=\"1\" class=\"dataframe\">\n",
       "  <thead>\n",
       "    <tr style=\"text-align: right;\">\n",
       "      <th></th>\n",
       "      <th>Open</th>\n",
       "      <th>High</th>\n",
       "      <th>Low</th>\n",
       "      <th>Close</th>\n",
       "      <th>Volume</th>\n",
       "      <th>Dividend</th>\n",
       "      <th>Split</th>\n",
       "      <th>Adj_Open</th>\n",
       "      <th>Adj_High</th>\n",
       "      <th>Adj_Low</th>\n",
       "      <th>Adj_Close</th>\n",
       "      <th>Adj_Volume</th>\n",
       "    </tr>\n",
       "    <tr>\n",
       "      <th>Date</th>\n",
       "      <th></th>\n",
       "      <th></th>\n",
       "      <th></th>\n",
       "      <th></th>\n",
       "      <th></th>\n",
       "      <th></th>\n",
       "      <th></th>\n",
       "      <th></th>\n",
       "      <th></th>\n",
       "      <th></th>\n",
       "      <th></th>\n",
       "      <th></th>\n",
       "    </tr>\n",
       "  </thead>\n",
       "  <tbody>\n",
       "    <tr>\n",
       "      <th>2018-04-11</th>\n",
       "      <td>172.23</td>\n",
       "      <td>173.9232</td>\n",
       "      <td>171.70</td>\n",
       "      <td>172.44</td>\n",
       "      <td>22431640.0</td>\n",
       "      <td>0.0</td>\n",
       "      <td>1.0</td>\n",
       "      <td>171.565897</td>\n",
       "      <td>173.252569</td>\n",
       "      <td>171.037941</td>\n",
       "      <td>171.775088</td>\n",
       "      <td>22431640.0</td>\n",
       "    </tr>\n",
       "    <tr>\n",
       "      <th>2018-04-12</th>\n",
       "      <td>173.41</td>\n",
       "      <td>175.0000</td>\n",
       "      <td>173.04</td>\n",
       "      <td>174.14</td>\n",
       "      <td>22889285.0</td>\n",
       "      <td>0.0</td>\n",
       "      <td>1.0</td>\n",
       "      <td>172.741347</td>\n",
       "      <td>174.325217</td>\n",
       "      <td>172.372774</td>\n",
       "      <td>173.468533</td>\n",
       "      <td>22889285.0</td>\n",
       "    </tr>\n",
       "    <tr>\n",
       "      <th>2018-04-13</th>\n",
       "      <td>174.78</td>\n",
       "      <td>175.8400</td>\n",
       "      <td>173.85</td>\n",
       "      <td>174.73</td>\n",
       "      <td>25124255.0</td>\n",
       "      <td>0.0</td>\n",
       "      <td>1.0</td>\n",
       "      <td>174.106065</td>\n",
       "      <td>175.161978</td>\n",
       "      <td>173.179651</td>\n",
       "      <td>174.056258</td>\n",
       "      <td>25124255.0</td>\n",
       "    </tr>\n",
       "  </tbody>\n",
       "</table>\n",
       "</div>"
      ],
      "text/plain": [
       "              Open      High     Low   Close      Volume  Dividend  Split  \\\n",
       "Date                                                                        \n",
       "2018-04-11  172.23  173.9232  171.70  172.44  22431640.0       0.0    1.0   \n",
       "2018-04-12  173.41  175.0000  173.04  174.14  22889285.0       0.0    1.0   \n",
       "2018-04-13  174.78  175.8400  173.85  174.73  25124255.0       0.0    1.0   \n",
       "\n",
       "              Adj_Open    Adj_High     Adj_Low   Adj_Close  Adj_Volume  \n",
       "Date                                                                    \n",
       "2018-04-11  171.565897  173.252569  171.037941  171.775088  22431640.0  \n",
       "2018-04-12  172.741347  174.325217  172.372774  173.468533  22889285.0  \n",
       "2018-04-13  174.106065  175.161978  173.179651  174.056258  25124255.0  "
      ]
     },
     "execution_count": 1,
     "metadata": {},
     "output_type": "execute_result"
    }
   ],
   "source": [
    "import pandas as pd\n",
    "data = pd.read_csv('AAPL.csv', index_col=0)\n",
    "data.index = pd.to_datetime(data.index)\n",
    "data.tail(3)"
   ]
  },
  {
   "cell_type": "markdown",
   "metadata": {},
   "source": [
    "### Define predictor variables and a target variable\n",
    "\n",
    "We define a list of predictors from which the model will pick the best predictors. ret1 is the one-day returns, std5 is the five-day standard deviation and so on. <BR>\n",
    "\n",
    "<font color='blue'>pct_change()</font> computes the percentage change from the immediately previous row by default and <font color='blue'>rolling_sum(window=n)</font> computes the sum of previous n rows. "
   ]
  },
  {
   "cell_type": "code",
   "execution_count": 2,
   "metadata": {},
   "outputs": [],
   "source": [
    "# Returns\n",
    "data['ret1'] = data.Adj_Close.pct_change()\n",
    "\n",
    "#data['ret5'] = pd.rolling_sum(data.ret1, 5)\n",
    "#data['ret10'] = pd.rolling_sum(data.ret1, 10)\n",
    "#data['ret20'] = pd.rolling_sum(data.ret1, 20)\n",
    "#data['ret40'] = pd.rolling_sum(data.ret1, 40)\n",
    "\n",
    "data['ret5'] = data.ret1.rolling(5).sum()\n",
    "data['ret10'] = data.ret1.rolling(10).sum()\n",
    "data['ret20'] = data.ret1.rolling(20).sum()\n",
    "data['ret40'] = data.ret1.rolling(40).sum()\n",
    "\n",
    "# Standard Deviation\n",
    "#data['std5'] = pd.rolling_std(data.ret1, 5)\n",
    "#data['std10'] = pd.rolling_std(data.ret1, 10)\n",
    "#data['std20'] = pd.rolling_std(data.ret1, 20)\n",
    "#data['std40'] = pd.rolling_std(data.ret1, 40)\n",
    "\n",
    "data['std5'] = data.ret1.rolling(5).std()\n",
    "data['std10'] = data.ret1.rolling(10).std()\n",
    "data['std20'] = data.ret1.rolling(20).std()\n",
    "data['std40'] = data.ret1.rolling(40).std()"
   ]
  },
  {
   "cell_type": "markdown",
   "metadata": {},
   "source": [
    "We define the target variable which is the future one-day returns of the Apple Inc. stock. <BR>\n",
    "<font color='blue'>shift(periods=n)</font> shifts the values by n period(s). If the value of n is negative then, it shifts the values backward and vice-versa."
   ]
  },
  {
   "cell_type": "code",
   "execution_count": 3,
   "metadata": {},
   "outputs": [],
   "source": [
    "data['retFut1'] = data.ret1.shift(-1)"
   ]
  },
  {
   "cell_type": "markdown",
   "metadata": {},
   "source": [
    "We drop the NaN values and store the predictor variables in X and target variable in y."
   ]
  },
  {
   "cell_type": "code",
   "execution_count": 4,
   "metadata": {},
   "outputs": [
    {
     "data": {
      "text/html": [
       "<div>\n",
       "<style scoped>\n",
       "    .dataframe tbody tr th:only-of-type {\n",
       "        vertical-align: middle;\n",
       "    }\n",
       "\n",
       "    .dataframe tbody tr th {\n",
       "        vertical-align: top;\n",
       "    }\n",
       "\n",
       "    .dataframe thead th {\n",
       "        text-align: right;\n",
       "    }\n",
       "</style>\n",
       "<table border=\"1\" class=\"dataframe\">\n",
       "  <thead>\n",
       "    <tr style=\"text-align: right;\">\n",
       "      <th></th>\n",
       "      <th>ret1</th>\n",
       "      <th>ret5</th>\n",
       "      <th>ret10</th>\n",
       "      <th>ret20</th>\n",
       "      <th>ret40</th>\n",
       "      <th>std5</th>\n",
       "      <th>std10</th>\n",
       "      <th>std20</th>\n",
       "      <th>std40</th>\n",
       "      <th>Volume</th>\n",
       "    </tr>\n",
       "    <tr>\n",
       "      <th>Date</th>\n",
       "      <th></th>\n",
       "      <th></th>\n",
       "      <th></th>\n",
       "      <th></th>\n",
       "      <th></th>\n",
       "      <th></th>\n",
       "      <th></th>\n",
       "      <th></th>\n",
       "      <th></th>\n",
       "      <th></th>\n",
       "    </tr>\n",
       "  </thead>\n",
       "  <tbody>\n",
       "    <tr>\n",
       "      <th>2008-02-29</th>\n",
       "      <td>-0.037641</td>\n",
       "      <td>0.048274</td>\n",
       "      <td>-0.015692</td>\n",
       "      <td>-0.071285</td>\n",
       "      <td>-0.418026</td>\n",
       "      <td>0.036048</td>\n",
       "      <td>0.028540</td>\n",
       "      <td>0.029106</td>\n",
       "      <td>0.034167</td>\n",
       "      <td>44838600.0</td>\n",
       "    </tr>\n",
       "    <tr>\n",
       "      <th>2008-03-03</th>\n",
       "      <td>-0.026316</td>\n",
       "      <td>0.019614</td>\n",
       "      <td>-0.019805</td>\n",
       "      <td>-0.085707</td>\n",
       "      <td>-0.444804</td>\n",
       "      <td>0.039604</td>\n",
       "      <td>0.028898</td>\n",
       "      <td>0.029499</td>\n",
       "      <td>0.034210</td>\n",
       "      <td>56894400.0</td>\n",
       "    </tr>\n",
       "    <tr>\n",
       "      <th>2008-03-04</th>\n",
       "      <td>0.023741</td>\n",
       "      <td>0.048283</td>\n",
       "      <td>0.023595</td>\n",
       "      <td>-0.046265</td>\n",
       "      <td>-0.344727</td>\n",
       "      <td>0.040075</td>\n",
       "      <td>0.029205</td>\n",
       "      <td>0.030010</td>\n",
       "      <td>0.032955</td>\n",
       "      <td>63763700.0</td>\n",
       "    </tr>\n",
       "    <tr>\n",
       "      <th>2008-03-05</th>\n",
       "      <td>-0.001044</td>\n",
       "      <td>0.015262</td>\n",
       "      <td>0.009128</td>\n",
       "      <td>-0.029914</td>\n",
       "      <td>-0.332386</td>\n",
       "      <td>0.038152</td>\n",
       "      <td>0.028954</td>\n",
       "      <td>0.029799</td>\n",
       "      <td>0.032967</td>\n",
       "      <td>43637000.0</td>\n",
       "    </tr>\n",
       "    <tr>\n",
       "      <th>2008-03-06</th>\n",
       "      <td>-0.028596</td>\n",
       "      <td>-0.069856</td>\n",
       "      <td>-0.001054</td>\n",
       "      <td>-0.001615</td>\n",
       "      <td>-0.325010</td>\n",
       "      <td>0.025079</td>\n",
       "      <td>0.029873</td>\n",
       "      <td>0.027623</td>\n",
       "      <td>0.032829</td>\n",
       "      <td>52632100.0</td>\n",
       "    </tr>\n",
       "  </tbody>\n",
       "</table>\n",
       "</div>"
      ],
      "text/plain": [
       "                ret1      ret5     ret10     ret20     ret40      std5  \\\n",
       "Date                                                                     \n",
       "2008-02-29 -0.037641  0.048274 -0.015692 -0.071285 -0.418026  0.036048   \n",
       "2008-03-03 -0.026316  0.019614 -0.019805 -0.085707 -0.444804  0.039604   \n",
       "2008-03-04  0.023741  0.048283  0.023595 -0.046265 -0.344727  0.040075   \n",
       "2008-03-05 -0.001044  0.015262  0.009128 -0.029914 -0.332386  0.038152   \n",
       "2008-03-06 -0.028596 -0.069856 -0.001054 -0.001615 -0.325010  0.025079   \n",
       "\n",
       "               std10     std20     std40      Volume  \n",
       "Date                                                  \n",
       "2008-02-29  0.028540  0.029106  0.034167  44838600.0  \n",
       "2008-03-03  0.028898  0.029499  0.034210  56894400.0  \n",
       "2008-03-04  0.029205  0.030010  0.032955  63763700.0  \n",
       "2008-03-05  0.028954  0.029799  0.032967  43637000.0  \n",
       "2008-03-06  0.029873  0.027623  0.032829  52632100.0  "
      ]
     },
     "execution_count": 4,
     "metadata": {},
     "output_type": "execute_result"
    }
   ],
   "source": [
    "data = data.dropna()\n",
    "predictor_list = ['ret1','ret5', 'ret10', 'ret20', 'ret40', 'std5', 'std10', 'std20', 'std40','Volume']\n",
    "X = data[predictor_list]\n",
    "y = data.retFut1\n",
    "X.head()"
   ]
  },
  {
   "cell_type": "code",
   "execution_count": 5,
   "metadata": {},
   "outputs": [
    {
     "data": {
      "text/plain": [
       "Date\n",
       "2008-02-29   -0.026316\n",
       "2008-03-03    0.023741\n",
       "2008-03-04   -0.001044\n",
       "2008-03-05   -0.028596\n",
       "2008-03-06    0.010915\n",
       "Name: retFut1, dtype: float64"
      ]
     },
     "execution_count": 5,
     "metadata": {},
     "output_type": "execute_result"
    }
   ],
   "source": [
    "y.head()"
   ]
  },
  {
   "cell_type": "markdown",
   "metadata": {},
   "source": [
    "### Split the data into train and test dataset\n",
    "This step is required to verify if the regression tree model we created is any good. We will split the dataset into two parts, first 80% of the dataset will use to create the model and the remaining 20% will be used as a test dataset."
   ]
  },
  {
   "cell_type": "code",
   "execution_count": 6,
   "metadata": {},
   "outputs": [],
   "source": [
    "train_length = int(len(data)*0.80)\n",
    "\n",
    "X_train = X[:train_length] \n",
    "X_test =  X[train_length:]\n",
    "y_train = y[:train_length]\n",
    "y_test = y[train_length:]                   "
   ]
  },
  {
   "cell_type": "markdown",
   "metadata": {},
   "source": [
    "We have training data in the X_train and y_train for creating the regression tree model and a X_test and y_test to verify the model on unseen data."
   ]
  },
  {
   "cell_type": "markdown",
   "metadata": {},
   "source": [
    "### Create regression tree model\n",
    "\n",
    "We have used DecisionTreeRegressor from sklearn.tree to create the regression tree model. We choose to set min_samples_leaf to 400, but you are free to experiment with other values and see what is optimal on the train dataset. Generally, a leaf size should not be too small to avoid overfitting in the train dataset."
   ]
  },
  {
   "cell_type": "code",
   "execution_count": 7,
   "metadata": {},
   "outputs": [],
   "source": [
    "# Regression tree model\n",
    "from sklearn.tree import DecisionTreeRegressor\n",
    "dtr = DecisionTreeRegressor(random_state=1,min_samples_leaf = 400)"
   ]
  },
  {
   "cell_type": "markdown",
   "metadata": {},
   "source": [
    "We create the regression tree model using fit() method on the train dataset."
   ]
  },
  {
   "cell_type": "code",
   "execution_count": 8,
   "metadata": {},
   "outputs": [
    {
     "data": {
      "text/plain": [
       "DecisionTreeRegressor(criterion='mse', max_depth=None, max_features=None,\n",
       "           max_leaf_nodes=None, min_impurity_decrease=0.0,\n",
       "           min_impurity_split=None, min_samples_leaf=400,\n",
       "           min_samples_split=2, min_weight_fraction_leaf=0.0,\n",
       "           presort=False, random_state=1, splitter='best')"
      ]
     },
     "execution_count": 8,
     "metadata": {},
     "output_type": "execute_result"
    }
   ],
   "source": [
    "dtr.fit(X_train, y_train)"
   ]
  },
  {
   "cell_type": "code",
   "execution_count": 9,
   "metadata": {},
   "outputs": [],
   "source": [
    "# Uncomment below line to see details of DecisionTreeRegressor\n",
    "#help(DecisionTreeRegressor)"
   ]
  },
  {
   "cell_type": "markdown",
   "metadata": {},
   "source": [
    "### Visualize the model\n",
    "\n",
    "We now visualize the regression tree created in the below step using the graphviz and sklearn's tree package."
   ]
  },
  {
   "cell_type": "code",
   "execution_count": 10,
   "metadata": {},
   "outputs": [
    {
     "data": {
      "image/svg+xml": [
       "<?xml version=\"1.0\" encoding=\"UTF-8\" standalone=\"no\"?>\r\n",
       "<!DOCTYPE svg PUBLIC \"-//W3C//DTD SVG 1.1//EN\"\r\n",
       " \"http://www.w3.org/Graphics/SVG/1.1/DTD/svg11.dtd\">\r\n",
       "<!-- Generated by graphviz version 2.38.0 (20140413.2041)\r\n",
       " -->\r\n",
       "<!-- Title: Tree Pages: 1 -->\r\n",
       "<svg width=\"457pt\" height=\"269pt\"\r\n",
       " viewBox=\"0.00 0.00 457.00 269.00\" xmlns=\"http://www.w3.org/2000/svg\" xmlns:xlink=\"http://www.w3.org/1999/xlink\">\r\n",
       "<g id=\"graph0\" class=\"graph\" transform=\"scale(1 1) rotate(0) translate(4 265)\">\r\n",
       "<title>Tree</title>\r\n",
       "<polygon fill=\"white\" stroke=\"none\" points=\"-4,4 -4,-265 453,-265 453,4 -4,4\"/>\r\n",
       "<!-- 0 -->\r\n",
       "<g id=\"node1\" class=\"node\"><title>0</title>\r\n",
       "<polygon fill=\"#e58139\" fill-opacity=\"0.592157\" stroke=\"black\" points=\"276,-261 172,-261 172,-193 276,-193 276,-261\"/>\r\n",
       "<text text-anchor=\"middle\" x=\"224\" y=\"-245.8\" font-family=\"Times New Roman,serif\" font-size=\"14.00\">ret5 &lt;= 0.001</text>\r\n",
       "<text text-anchor=\"middle\" x=\"224\" y=\"-230.8\" font-family=\"Times New Roman,serif\" font-size=\"14.00\">mse = 0.0</text>\r\n",
       "<text text-anchor=\"middle\" x=\"224\" y=\"-215.8\" font-family=\"Times New Roman,serif\" font-size=\"14.00\">samples = 2038</text>\r\n",
       "<text text-anchor=\"middle\" x=\"224\" y=\"-200.8\" font-family=\"Times New Roman,serif\" font-size=\"14.00\">value = 0.001</text>\r\n",
       "</g>\r\n",
       "<!-- 1 -->\r\n",
       "<g id=\"node2\" class=\"node\"><title>1</title>\r\n",
       "<polygon fill=\"#e58139\" fill-opacity=\"0.364706\" stroke=\"black\" points=\"215,-157 111,-157 111,-89 215,-89 215,-157\"/>\r\n",
       "<text text-anchor=\"middle\" x=\"163\" y=\"-141.8\" font-family=\"Times New Roman,serif\" font-size=\"14.00\">ret10 &lt;= &#45;0.018</text>\r\n",
       "<text text-anchor=\"middle\" x=\"163\" y=\"-126.8\" font-family=\"Times New Roman,serif\" font-size=\"14.00\">mse = 0.001</text>\r\n",
       "<text text-anchor=\"middle\" x=\"163\" y=\"-111.8\" font-family=\"Times New Roman,serif\" font-size=\"14.00\">samples = 906</text>\r\n",
       "<text text-anchor=\"middle\" x=\"163\" y=\"-96.8\" font-family=\"Times New Roman,serif\" font-size=\"14.00\">value = &#45;0.0</text>\r\n",
       "</g>\r\n",
       "<!-- 0&#45;&gt;1 -->\r\n",
       "<g id=\"edge1\" class=\"edge\"><title>0&#45;&gt;1</title>\r\n",
       "<path fill=\"none\" stroke=\"black\" d=\"M204.195,-192.884C199.081,-184.332 193.508,-175.013 188.161,-166.072\"/>\r\n",
       "<polygon fill=\"black\" stroke=\"black\" points=\"191.051,-164.085 182.914,-157.299 185.043,-167.678 191.051,-164.085\"/>\r\n",
       "<text text-anchor=\"middle\" x=\"176.816\" y=\"-177.844\" font-family=\"Times New Roman,serif\" font-size=\"14.00\">True</text>\r\n",
       "</g>\r\n",
       "<!-- 4 -->\r\n",
       "<g id=\"node5\" class=\"node\"><title>4</title>\r\n",
       "<polygon fill=\"#e58139\" fill-opacity=\"0.772549\" stroke=\"black\" points=\"337,-157 233,-157 233,-89 337,-89 337,-157\"/>\r\n",
       "<text text-anchor=\"middle\" x=\"285\" y=\"-141.8\" font-family=\"Times New Roman,serif\" font-size=\"14.00\">std5 &lt;= 0.016</text>\r\n",
       "<text text-anchor=\"middle\" x=\"285\" y=\"-126.8\" font-family=\"Times New Roman,serif\" font-size=\"14.00\">mse = 0.0</text>\r\n",
       "<text text-anchor=\"middle\" x=\"285\" y=\"-111.8\" font-family=\"Times New Roman,serif\" font-size=\"14.00\">samples = 1132</text>\r\n",
       "<text text-anchor=\"middle\" x=\"285\" y=\"-96.8\" font-family=\"Times New Roman,serif\" font-size=\"14.00\">value = 0.002</text>\r\n",
       "</g>\r\n",
       "<!-- 0&#45;&gt;4 -->\r\n",
       "<g id=\"edge4\" class=\"edge\"><title>0&#45;&gt;4</title>\r\n",
       "<path fill=\"none\" stroke=\"black\" d=\"M243.805,-192.884C248.919,-184.332 254.492,-175.013 259.839,-166.072\"/>\r\n",
       "<polygon fill=\"black\" stroke=\"black\" points=\"262.957,-167.678 265.086,-157.299 256.949,-164.085 262.957,-167.678\"/>\r\n",
       "<text text-anchor=\"middle\" x=\"271.184\" y=\"-177.844\" font-family=\"Times New Roman,serif\" font-size=\"14.00\">False</text>\r\n",
       "</g>\r\n",
       "<!-- 2 -->\r\n",
       "<g id=\"node3\" class=\"node\"><title>2</title>\r\n",
       "<polygon fill=\"#e58139\" fill-opacity=\"0.698039\" stroke=\"black\" points=\"98,-53 0,-53 0,-0 98,-0 98,-53\"/>\r\n",
       "<text text-anchor=\"middle\" x=\"49\" y=\"-37.8\" font-family=\"Times New Roman,serif\" font-size=\"14.00\">mse = 0.001</text>\r\n",
       "<text text-anchor=\"middle\" x=\"49\" y=\"-22.8\" font-family=\"Times New Roman,serif\" font-size=\"14.00\">samples = 472</text>\r\n",
       "<text text-anchor=\"middle\" x=\"49\" y=\"-7.8\" font-family=\"Times New Roman,serif\" font-size=\"14.00\">value = 0.002</text>\r\n",
       "</g>\r\n",
       "<!-- 1&#45;&gt;2 -->\r\n",
       "<g id=\"edge2\" class=\"edge\"><title>1&#45;&gt;2</title>\r\n",
       "<path fill=\"none\" stroke=\"black\" d=\"M123.128,-88.9485C111.762,-79.526 99.393,-69.2731 88.0743,-59.8906\"/>\r\n",
       "<polygon fill=\"black\" stroke=\"black\" points=\"89.9799,-56.924 80.0475,-53.2367 85.5126,-62.3132 89.9799,-56.924\"/>\r\n",
       "</g>\r\n",
       "<!-- 3 -->\r\n",
       "<g id=\"node4\" class=\"node\"><title>3</title>\r\n",
       "<polygon fill=\"none\" stroke=\"black\" points=\"214,-53 116,-53 116,-0 214,-0 214,-53\"/>\r\n",
       "<text text-anchor=\"middle\" x=\"165\" y=\"-37.8\" font-family=\"Times New Roman,serif\" font-size=\"14.00\">mse = 0.0</text>\r\n",
       "<text text-anchor=\"middle\" x=\"165\" y=\"-22.8\" font-family=\"Times New Roman,serif\" font-size=\"14.00\">samples = 434</text>\r\n",
       "<text text-anchor=\"middle\" x=\"165\" y=\"-7.8\" font-family=\"Times New Roman,serif\" font-size=\"14.00\">value = &#45;0.003</text>\r\n",
       "</g>\r\n",
       "<!-- 1&#45;&gt;3 -->\r\n",
       "<g id=\"edge3\" class=\"edge\"><title>1&#45;&gt;3</title>\r\n",
       "<path fill=\"none\" stroke=\"black\" d=\"M163.7,-88.9485C163.874,-80.7153 164.061,-71.848 164.238,-63.4814\"/>\r\n",
       "<polygon fill=\"black\" stroke=\"black\" points=\"167.743,-63.3086 164.455,-53.2367 160.744,-63.1604 167.743,-63.3086\"/>\r\n",
       "</g>\r\n",
       "<!-- 5 -->\r\n",
       "<g id=\"node6\" class=\"node\"><title>5</title>\r\n",
       "<polygon fill=\"#e58139\" fill-opacity=\"0.623529\" stroke=\"black\" points=\"333,-53 235,-53 235,-0 333,-0 333,-53\"/>\r\n",
       "<text text-anchor=\"middle\" x=\"284\" y=\"-37.8\" font-family=\"Times New Roman,serif\" font-size=\"14.00\">mse = 0.0</text>\r\n",
       "<text text-anchor=\"middle\" x=\"284\" y=\"-22.8\" font-family=\"Times New Roman,serif\" font-size=\"14.00\">samples = 680</text>\r\n",
       "<text text-anchor=\"middle\" x=\"284\" y=\"-7.8\" font-family=\"Times New Roman,serif\" font-size=\"14.00\">value = 0.001</text>\r\n",
       "</g>\r\n",
       "<!-- 4&#45;&gt;5 -->\r\n",
       "<g id=\"edge5\" class=\"edge\"><title>4&#45;&gt;5</title>\r\n",
       "<path fill=\"none\" stroke=\"black\" d=\"M284.65,-88.9485C284.563,-80.7153 284.469,-71.848 284.381,-63.4814\"/>\r\n",
       "<polygon fill=\"black\" stroke=\"black\" points=\"287.878,-63.1991 284.272,-53.2367 280.878,-63.2732 287.878,-63.1991\"/>\r\n",
       "</g>\r\n",
       "<!-- 6 -->\r\n",
       "<g id=\"node7\" class=\"node\"><title>6</title>\r\n",
       "<polygon fill=\"#e58139\" stroke=\"black\" points=\"449,-53 351,-53 351,-0 449,-0 449,-53\"/>\r\n",
       "<text text-anchor=\"middle\" x=\"400\" y=\"-37.8\" font-family=\"Times New Roman,serif\" font-size=\"14.00\">mse = 0.0</text>\r\n",
       "<text text-anchor=\"middle\" x=\"400\" y=\"-22.8\" font-family=\"Times New Roman,serif\" font-size=\"14.00\">samples = 452</text>\r\n",
       "<text text-anchor=\"middle\" x=\"400\" y=\"-7.8\" font-family=\"Times New Roman,serif\" font-size=\"14.00\">value = 0.004</text>\r\n",
       "</g>\r\n",
       "<!-- 4&#45;&gt;6 -->\r\n",
       "<g id=\"edge6\" class=\"edge\"><title>4&#45;&gt;6</title>\r\n",
       "<path fill=\"none\" stroke=\"black\" d=\"M325.221,-88.9485C336.799,-79.4346 349.407,-69.074 360.915,-59.6175\"/>\r\n",
       "<polygon fill=\"black\" stroke=\"black\" points=\"363.176,-62.2897 368.68,-53.2367 358.732,-56.8814 363.176,-62.2897\"/>\r\n",
       "</g>\r\n",
       "</g>\r\n",
       "</svg>\r\n"
      ],
      "text/plain": [
       "<graphviz.files.Source at 0x206796efe80>"
      ]
     },
     "execution_count": 10,
     "metadata": {},
     "output_type": "execute_result"
    }
   ],
   "source": [
    "import os\n",
    "#os.environ[\"PATH\"] += os.pathsep + 'C:/Users/academy/Documents/graphviz-2.38/release/bin/'\n",
    "#os.environ[\"PATH\"] += os.pathsep + 'C:/Program Files (x86)/Graphviz2.38/release/bin/'\n",
    "os.environ[\"PATH\"] += os.pathsep + 'C:/Program Files (x86)/Graphviz2.38/bin/'\n",
    "    \n",
    "from sklearn import tree\n",
    "import graphviz\n",
    "dot_data = tree.export_graphviz(dtr, \n",
    "                                out_file=None, \n",
    "                                filled=True,   \n",
    "                                feature_names=predictor_list)  \n",
    "graphviz.Source(dot_data)  "
   ]
  },
  {
   "cell_type": "code",
   "execution_count": 11,
   "metadata": {},
   "outputs": [
    {
     "data": {
      "image/svg+xml": [
       "<?xml version=\"1.0\" encoding=\"UTF-8\" standalone=\"no\"?>\r\n",
       "<!DOCTYPE svg PUBLIC \"-//W3C//DTD SVG 1.1//EN\"\r\n",
       " \"http://www.w3.org/Graphics/SVG/1.1/DTD/svg11.dtd\">\r\n",
       "<!-- Generated by graphviz version 2.38.0 (20140413.2041)\r\n",
       " -->\r\n",
       "<!-- Title: Tree Pages: 1 -->\r\n",
       "<svg width=\"780pt\" height=\"893pt\"\r\n",
       " viewBox=\"0.00 0.00 780.00 893.00\" xmlns=\"http://www.w3.org/2000/svg\" xmlns:xlink=\"http://www.w3.org/1999/xlink\">\r\n",
       "<g id=\"graph0\" class=\"graph\" transform=\"scale(1 1) rotate(0) translate(4 889)\">\r\n",
       "<title>Tree</title>\r\n",
       "<polygon fill=\"white\" stroke=\"none\" points=\"-4,4 -4,-889 776,-889 776,4 -4,4\"/>\r\n",
       "<!-- 0 -->\r\n",
       "<g id=\"node1\" class=\"node\"><title>0</title>\r\n",
       "<polygon fill=\"#e58139\" fill-opacity=\"0.560784\" stroke=\"black\" points=\"416,-885 312,-885 312,-817 416,-817 416,-885\"/>\r\n",
       "<text text-anchor=\"middle\" x=\"364\" y=\"-869.8\" font-family=\"Times New Roman,serif\" font-size=\"14.00\">ret10 &lt;= &#45;0.066</text>\r\n",
       "<text text-anchor=\"middle\" x=\"364\" y=\"-854.8\" font-family=\"Times New Roman,serif\" font-size=\"14.00\">mse = 0.0</text>\r\n",
       "<text text-anchor=\"middle\" x=\"364\" y=\"-839.8\" font-family=\"Times New Roman,serif\" font-size=\"14.00\">samples = 2038</text>\r\n",
       "<text text-anchor=\"middle\" x=\"364\" y=\"-824.8\" font-family=\"Times New Roman,serif\" font-size=\"14.00\">value = 0.001</text>\r\n",
       "</g>\r\n",
       "<!-- 1 -->\r\n",
       "<g id=\"node2\" class=\"node\"><title>1</title>\r\n",
       "<polygon fill=\"#e58139\" fill-opacity=\"0.835294\" stroke=\"black\" points=\"354,-773.5 256,-773.5 256,-720.5 354,-720.5 354,-773.5\"/>\r\n",
       "<text text-anchor=\"middle\" x=\"305\" y=\"-758.3\" font-family=\"Times New Roman,serif\" font-size=\"14.00\">mse = 0.001</text>\r\n",
       "<text text-anchor=\"middle\" x=\"305\" y=\"-743.3\" font-family=\"Times New Roman,serif\" font-size=\"14.00\">samples = 179</text>\r\n",
       "<text text-anchor=\"middle\" x=\"305\" y=\"-728.3\" font-family=\"Times New Roman,serif\" font-size=\"14.00\">value = 0.006</text>\r\n",
       "</g>\r\n",
       "<!-- 0&#45;&gt;1 -->\r\n",
       "<g id=\"edge1\" class=\"edge\"><title>0&#45;&gt;1</title>\r\n",
       "<path fill=\"none\" stroke=\"black\" d=\"M344.844,-816.884C338.419,-805.776 331.245,-793.372 324.773,-782.184\"/>\r\n",
       "<polygon fill=\"black\" stroke=\"black\" points=\"327.798,-780.424 319.762,-773.52 321.739,-783.929 327.798,-780.424\"/>\r\n",
       "<text text-anchor=\"middle\" x=\"313.311\" y=\"-793.973\" font-family=\"Times New Roman,serif\" font-size=\"14.00\">True</text>\r\n",
       "</g>\r\n",
       "<!-- 2 -->\r\n",
       "<g id=\"node3\" class=\"node\"><title>2</title>\r\n",
       "<polygon fill=\"#e58139\" fill-opacity=\"0.533333\" stroke=\"black\" points=\"476,-781 372,-781 372,-713 476,-713 476,-781\"/>\r\n",
       "<text text-anchor=\"middle\" x=\"424\" y=\"-765.8\" font-family=\"Times New Roman,serif\" font-size=\"14.00\">ret5 &lt;= 0.001</text>\r\n",
       "<text text-anchor=\"middle\" x=\"424\" y=\"-750.8\" font-family=\"Times New Roman,serif\" font-size=\"14.00\">mse = 0.0</text>\r\n",
       "<text text-anchor=\"middle\" x=\"424\" y=\"-735.8\" font-family=\"Times New Roman,serif\" font-size=\"14.00\">samples = 1859</text>\r\n",
       "<text text-anchor=\"middle\" x=\"424\" y=\"-720.8\" font-family=\"Times New Roman,serif\" font-size=\"14.00\">value = 0.001</text>\r\n",
       "</g>\r\n",
       "<!-- 0&#45;&gt;2 -->\r\n",
       "<g id=\"edge2\" class=\"edge\"><title>0&#45;&gt;2</title>\r\n",
       "<path fill=\"none\" stroke=\"black\" d=\"M383.48,-816.884C388.51,-808.332 393.992,-799.013 399.252,-790.072\"/>\r\n",
       "<polygon fill=\"black\" stroke=\"black\" points=\"402.359,-791.693 404.412,-781.299 396.325,-788.144 402.359,-791.693\"/>\r\n",
       "<text text-anchor=\"middle\" x=\"410.686\" y=\"-801.799\" font-family=\"Times New Roman,serif\" font-size=\"14.00\">False</text>\r\n",
       "</g>\r\n",
       "<!-- 3 -->\r\n",
       "<g id=\"node4\" class=\"node\"><title>3</title>\r\n",
       "<polygon fill=\"#e58139\" fill-opacity=\"0.403922\" stroke=\"black\" points=\"379,-677 277,-677 277,-609 379,-609 379,-677\"/>\r\n",
       "<text text-anchor=\"middle\" x=\"328\" y=\"-661.8\" font-family=\"Times New Roman,serif\" font-size=\"14.00\">std10 &lt;= 0.012</text>\r\n",
       "<text text-anchor=\"middle\" x=\"328\" y=\"-646.8\" font-family=\"Times New Roman,serif\" font-size=\"14.00\">mse = 0.0</text>\r\n",
       "<text text-anchor=\"middle\" x=\"328\" y=\"-631.8\" font-family=\"Times New Roman,serif\" font-size=\"14.00\">samples = 742</text>\r\n",
       "<text text-anchor=\"middle\" x=\"328\" y=\"-616.8\" font-family=\"Times New Roman,serif\" font-size=\"14.00\">value = &#45;0.001</text>\r\n",
       "</g>\r\n",
       "<!-- 2&#45;&gt;3 -->\r\n",
       "<g id=\"edge3\" class=\"edge\"><title>2&#45;&gt;3</title>\r\n",
       "<path fill=\"none\" stroke=\"black\" d=\"M392.832,-712.884C384.364,-703.887 375.097,-694.041 366.285,-684.678\"/>\r\n",
       "<polygon fill=\"black\" stroke=\"black\" points=\"368.743,-682.183 359.341,-677.299 363.646,-686.98 368.743,-682.183\"/>\r\n",
       "</g>\r\n",
       "<!-- 14 -->\r\n",
       "<g id=\"node15\" class=\"node\"><title>14</title>\r\n",
       "<polygon fill=\"#e58139\" fill-opacity=\"0.619608\" stroke=\"black\" points=\"593.5,-677 444.5,-677 444.5,-609 593.5,-609 593.5,-677\"/>\r\n",
       "<text text-anchor=\"middle\" x=\"519\" y=\"-661.8\" font-family=\"Times New Roman,serif\" font-size=\"14.00\">Volume &lt;= 44738942.0</text>\r\n",
       "<text text-anchor=\"middle\" x=\"519\" y=\"-646.8\" font-family=\"Times New Roman,serif\" font-size=\"14.00\">mse = 0.0</text>\r\n",
       "<text text-anchor=\"middle\" x=\"519\" y=\"-631.8\" font-family=\"Times New Roman,serif\" font-size=\"14.00\">samples = 1117</text>\r\n",
       "<text text-anchor=\"middle\" x=\"519\" y=\"-616.8\" font-family=\"Times New Roman,serif\" font-size=\"14.00\">value = 0.002</text>\r\n",
       "</g>\r\n",
       "<!-- 2&#45;&gt;14 -->\r\n",
       "<g id=\"edge14\" class=\"edge\"><title>2&#45;&gt;14</title>\r\n",
       "<path fill=\"none\" stroke=\"black\" d=\"M454.844,-712.884C463.223,-703.887 472.394,-694.041 481.113,-684.678\"/>\r\n",
       "<polygon fill=\"black\" stroke=\"black\" points=\"483.732,-687.003 487.986,-677.299 478.609,-682.232 483.732,-687.003\"/>\r\n",
       "</g>\r\n",
       "<!-- 4 -->\r\n",
       "<g id=\"node5\" class=\"node\"><title>4</title>\r\n",
       "<polygon fill=\"#e58139\" fill-opacity=\"0.603922\" stroke=\"black\" points=\"214,-573 116,-573 116,-505 214,-505 214,-573\"/>\r\n",
       "<text text-anchor=\"middle\" x=\"165\" y=\"-557.8\" font-family=\"Times New Roman,serif\" font-size=\"14.00\">ret5 &lt;= &#45;0.01</text>\r\n",
       "<text text-anchor=\"middle\" x=\"165\" y=\"-542.8\" font-family=\"Times New Roman,serif\" font-size=\"14.00\">mse = 0.0</text>\r\n",
       "<text text-anchor=\"middle\" x=\"165\" y=\"-527.8\" font-family=\"Times New Roman,serif\" font-size=\"14.00\">samples = 230</text>\r\n",
       "<text text-anchor=\"middle\" x=\"165\" y=\"-512.8\" font-family=\"Times New Roman,serif\" font-size=\"14.00\">value = 0.002</text>\r\n",
       "</g>\r\n",
       "<!-- 3&#45;&gt;4 -->\r\n",
       "<g id=\"edge4\" class=\"edge\"><title>3&#45;&gt;4</title>\r\n",
       "<path fill=\"none\" stroke=\"black\" d=\"M276.873,-610.006C259.703,-599.262 240.434,-587.204 222.789,-576.162\"/>\r\n",
       "<polygon fill=\"black\" stroke=\"black\" points=\"224.607,-573.171 214.273,-570.834 220.894,-579.105 224.607,-573.171\"/>\r\n",
       "</g>\r\n",
       "<!-- 7 -->\r\n",
       "<g id=\"node8\" class=\"node\"><title>7</title>\r\n",
       "<polygon fill=\"#e58139\" fill-opacity=\"0.317647\" stroke=\"black\" points=\"377,-573 279,-573 279,-505 377,-505 377,-573\"/>\r\n",
       "<text text-anchor=\"middle\" x=\"328\" y=\"-557.8\" font-family=\"Times New Roman,serif\" font-size=\"14.00\">ret5 &lt;= &#45;0.045</text>\r\n",
       "<text text-anchor=\"middle\" x=\"328\" y=\"-542.8\" font-family=\"Times New Roman,serif\" font-size=\"14.00\">mse = 0.0</text>\r\n",
       "<text text-anchor=\"middle\" x=\"328\" y=\"-527.8\" font-family=\"Times New Roman,serif\" font-size=\"14.00\">samples = 512</text>\r\n",
       "<text text-anchor=\"middle\" x=\"328\" y=\"-512.8\" font-family=\"Times New Roman,serif\" font-size=\"14.00\">value = &#45;0.003</text>\r\n",
       "</g>\r\n",
       "<!-- 3&#45;&gt;7 -->\r\n",
       "<g id=\"edge7\" class=\"edge\"><title>3&#45;&gt;7</title>\r\n",
       "<path fill=\"none\" stroke=\"black\" d=\"M328,-608.884C328,-600.778 328,-591.982 328,-583.472\"/>\r\n",
       "<polygon fill=\"black\" stroke=\"black\" points=\"331.5,-583.299 328,-573.299 324.5,-583.299 331.5,-583.299\"/>\r\n",
       "</g>\r\n",
       "<!-- 5 -->\r\n",
       "<g id=\"node6\" class=\"node\"><title>5</title>\r\n",
       "<polygon fill=\"#e58139\" fill-opacity=\"0.729412\" stroke=\"black\" points=\"98,-461.5 0,-461.5 0,-408.5 98,-408.5 98,-461.5\"/>\r\n",
       "<text text-anchor=\"middle\" x=\"49\" y=\"-446.3\" font-family=\"Times New Roman,serif\" font-size=\"14.00\">mse = 0.0</text>\r\n",
       "<text text-anchor=\"middle\" x=\"49\" y=\"-431.3\" font-family=\"Times New Roman,serif\" font-size=\"14.00\">samples = 130</text>\r\n",
       "<text text-anchor=\"middle\" x=\"49\" y=\"-416.3\" font-family=\"Times New Roman,serif\" font-size=\"14.00\">value = 0.004</text>\r\n",
       "</g>\r\n",
       "<!-- 4&#45;&gt;5 -->\r\n",
       "<g id=\"edge5\" class=\"edge\"><title>4&#45;&gt;5</title>\r\n",
       "<path fill=\"none\" stroke=\"black\" d=\"M127.338,-504.884C113.955,-493.116 98.9182,-479.894 85.6234,-468.203\"/>\r\n",
       "<polygon fill=\"black\" stroke=\"black\" points=\"87.8436,-465.495 78.0227,-461.52 83.2212,-470.752 87.8436,-465.495\"/>\r\n",
       "</g>\r\n",
       "<!-- 6 -->\r\n",
       "<g id=\"node7\" class=\"node\"><title>6</title>\r\n",
       "<polygon fill=\"#e58139\" fill-opacity=\"0.435294\" stroke=\"black\" points=\"214,-461.5 116,-461.5 116,-408.5 214,-408.5 214,-461.5\"/>\r\n",
       "<text text-anchor=\"middle\" x=\"165\" y=\"-446.3\" font-family=\"Times New Roman,serif\" font-size=\"14.00\">mse = 0.0</text>\r\n",
       "<text text-anchor=\"middle\" x=\"165\" y=\"-431.3\" font-family=\"Times New Roman,serif\" font-size=\"14.00\">samples = 100</text>\r\n",
       "<text text-anchor=\"middle\" x=\"165\" y=\"-416.3\" font-family=\"Times New Roman,serif\" font-size=\"14.00\">value = &#45;0.001</text>\r\n",
       "</g>\r\n",
       "<!-- 4&#45;&gt;6 -->\r\n",
       "<g id=\"edge6\" class=\"edge\"><title>4&#45;&gt;6</title>\r\n",
       "<path fill=\"none\" stroke=\"black\" d=\"M165,-504.884C165,-494.326 165,-482.597 165,-471.854\"/>\r\n",
       "<polygon fill=\"black\" stroke=\"black\" points=\"168.5,-471.52 165,-461.52 161.5,-471.52 168.5,-471.52\"/>\r\n",
       "</g>\r\n",
       "<!-- 8 -->\r\n",
       "<g id=\"node9\" class=\"node\"><title>8</title>\r\n",
       "<polygon fill=\"#e58139\" fill-opacity=\"0.635294\" stroke=\"black\" points=\"330,-461.5 232,-461.5 232,-408.5 330,-408.5 330,-461.5\"/>\r\n",
       "<text text-anchor=\"middle\" x=\"281\" y=\"-446.3\" font-family=\"Times New Roman,serif\" font-size=\"14.00\">mse = 0.001</text>\r\n",
       "<text text-anchor=\"middle\" x=\"281\" y=\"-431.3\" font-family=\"Times New Roman,serif\" font-size=\"14.00\">samples = 102</text>\r\n",
       "<text text-anchor=\"middle\" x=\"281\" y=\"-416.3\" font-family=\"Times New Roman,serif\" font-size=\"14.00\">value = 0.002</text>\r\n",
       "</g>\r\n",
       "<!-- 7&#45;&gt;8 -->\r\n",
       "<g id=\"edge8\" class=\"edge\"><title>7&#45;&gt;8</title>\r\n",
       "<path fill=\"none\" stroke=\"black\" d=\"M312.74,-504.884C307.723,-493.996 302.133,-481.863 297.058,-470.85\"/>\r\n",
       "<polygon fill=\"black\" stroke=\"black\" points=\"300.123,-469.137 292.759,-461.52 293.765,-472.067 300.123,-469.137\"/>\r\n",
       "</g>\r\n",
       "<!-- 9 -->\r\n",
       "<g id=\"node10\" class=\"node\"><title>9</title>\r\n",
       "<polygon fill=\"#e58139\" fill-opacity=\"0.239216\" stroke=\"black\" points=\"450,-469 348,-469 348,-401 450,-401 450,-469\"/>\r\n",
       "<text text-anchor=\"middle\" x=\"399\" y=\"-453.8\" font-family=\"Times New Roman,serif\" font-size=\"14.00\">std10 &lt;= 0.021</text>\r\n",
       "<text text-anchor=\"middle\" x=\"399\" y=\"-438.8\" font-family=\"Times New Roman,serif\" font-size=\"14.00\">mse = 0.0</text>\r\n",
       "<text text-anchor=\"middle\" x=\"399\" y=\"-423.8\" font-family=\"Times New Roman,serif\" font-size=\"14.00\">samples = 410</text>\r\n",
       "<text text-anchor=\"middle\" x=\"399\" y=\"-408.8\" font-family=\"Times New Roman,serif\" font-size=\"14.00\">value = &#45;0.004</text>\r\n",
       "</g>\r\n",
       "<!-- 7&#45;&gt;9 -->\r\n",
       "<g id=\"edge9\" class=\"edge\"><title>7&#45;&gt;9</title>\r\n",
       "<path fill=\"none\" stroke=\"black\" d=\"M351.052,-504.884C357.128,-496.154 363.761,-486.625 370.103,-477.514\"/>\r\n",
       "<polygon fill=\"black\" stroke=\"black\" points=\"372.981,-479.506 375.821,-469.299 367.235,-475.507 372.981,-479.506\"/>\r\n",
       "</g>\r\n",
       "<!-- 10 -->\r\n",
       "<g id=\"node11\" class=\"node\"><title>10</title>\r\n",
       "<polygon fill=\"#e58139\" fill-opacity=\"0.321569\" stroke=\"black\" points=\"333,-365 235,-365 235,-297 333,-297 333,-365\"/>\r\n",
       "<text text-anchor=\"middle\" x=\"284\" y=\"-349.8\" font-family=\"Times New Roman,serif\" font-size=\"14.00\">std5 &lt;= 0.016</text>\r\n",
       "<text text-anchor=\"middle\" x=\"284\" y=\"-334.8\" font-family=\"Times New Roman,serif\" font-size=\"14.00\">mse = 0.0</text>\r\n",
       "<text text-anchor=\"middle\" x=\"284\" y=\"-319.8\" font-family=\"Times New Roman,serif\" font-size=\"14.00\">samples = 306</text>\r\n",
       "<text text-anchor=\"middle\" x=\"284\" y=\"-304.8\" font-family=\"Times New Roman,serif\" font-size=\"14.00\">value = &#45;0.003</text>\r\n",
       "</g>\r\n",
       "<!-- 9&#45;&gt;10 -->\r\n",
       "<g id=\"edge10\" class=\"edge\"><title>9&#45;&gt;10</title>\r\n",
       "<path fill=\"none\" stroke=\"black\" d=\"M361.663,-400.884C351.319,-391.709 339.978,-381.65 329.236,-372.123\"/>\r\n",
       "<polygon fill=\"black\" stroke=\"black\" points=\"331.347,-369.317 321.543,-365.299 326.702,-374.553 331.347,-369.317\"/>\r\n",
       "</g>\r\n",
       "<!-- 13 -->\r\n",
       "<g id=\"node14\" class=\"node\"><title>13</title>\r\n",
       "<polygon fill=\"none\" stroke=\"black\" points=\"449,-357.5 351,-357.5 351,-304.5 449,-304.5 449,-357.5\"/>\r\n",
       "<text text-anchor=\"middle\" x=\"400\" y=\"-342.3\" font-family=\"Times New Roman,serif\" font-size=\"14.00\">mse = 0.001</text>\r\n",
       "<text text-anchor=\"middle\" x=\"400\" y=\"-327.3\" font-family=\"Times New Roman,serif\" font-size=\"14.00\">samples = 104</text>\r\n",
       "<text text-anchor=\"middle\" x=\"400\" y=\"-312.3\" font-family=\"Times New Roman,serif\" font-size=\"14.00\">value = &#45;0.008</text>\r\n",
       "</g>\r\n",
       "<!-- 9&#45;&gt;13 -->\r\n",
       "<g id=\"edge13\" class=\"edge\"><title>9&#45;&gt;13</title>\r\n",
       "<path fill=\"none\" stroke=\"black\" d=\"M399.325,-400.884C399.428,-390.326 399.543,-378.597 399.648,-367.854\"/>\r\n",
       "<polygon fill=\"black\" stroke=\"black\" points=\"403.152,-367.554 399.75,-357.52 396.152,-367.485 403.152,-367.554\"/>\r\n",
       "</g>\r\n",
       "<!-- 11 -->\r\n",
       "<g id=\"node12\" class=\"node\"><title>11</title>\r\n",
       "<polygon fill=\"#e58139\" fill-opacity=\"0.168627\" stroke=\"black\" points=\"247,-253.5 149,-253.5 149,-200.5 247,-200.5 247,-253.5\"/>\r\n",
       "<text text-anchor=\"middle\" x=\"198\" y=\"-238.3\" font-family=\"Times New Roman,serif\" font-size=\"14.00\">mse = 0.0</text>\r\n",
       "<text text-anchor=\"middle\" x=\"198\" y=\"-223.3\" font-family=\"Times New Roman,serif\" font-size=\"14.00\">samples = 180</text>\r\n",
       "<text text-anchor=\"middle\" x=\"198\" y=\"-208.3\" font-family=\"Times New Roman,serif\" font-size=\"14.00\">value = &#45;0.005</text>\r\n",
       "</g>\r\n",
       "<!-- 10&#45;&gt;11 -->\r\n",
       "<g id=\"edge11\" class=\"edge\"><title>10&#45;&gt;11</title>\r\n",
       "<path fill=\"none\" stroke=\"black\" d=\"M256.078,-296.884C246.435,-285.446 235.632,-272.634 225.984,-261.19\"/>\r\n",
       "<polygon fill=\"black\" stroke=\"black\" points=\"228.639,-258.909 219.517,-253.52 223.287,-263.421 228.639,-258.909\"/>\r\n",
       "</g>\r\n",
       "<!-- 12 -->\r\n",
       "<g id=\"node13\" class=\"node\"><title>12</title>\r\n",
       "<polygon fill=\"#e58139\" fill-opacity=\"0.533333\" stroke=\"black\" points=\"363,-253.5 265,-253.5 265,-200.5 363,-200.5 363,-253.5\"/>\r\n",
       "<text text-anchor=\"middle\" x=\"314\" y=\"-238.3\" font-family=\"Times New Roman,serif\" font-size=\"14.00\">mse = 0.0</text>\r\n",
       "<text text-anchor=\"middle\" x=\"314\" y=\"-223.3\" font-family=\"Times New Roman,serif\" font-size=\"14.00\">samples = 126</text>\r\n",
       "<text text-anchor=\"middle\" x=\"314\" y=\"-208.3\" font-family=\"Times New Roman,serif\" font-size=\"14.00\">value = 0.001</text>\r\n",
       "</g>\r\n",
       "<!-- 10&#45;&gt;12 -->\r\n",
       "<g id=\"edge12\" class=\"edge\"><title>10&#45;&gt;12</title>\r\n",
       "<path fill=\"none\" stroke=\"black\" d=\"M293.74,-296.884C296.91,-286.106 300.439,-274.108 303.652,-263.184\"/>\r\n",
       "<polygon fill=\"black\" stroke=\"black\" points=\"307.03,-264.101 306.494,-253.52 300.315,-262.126 307.03,-264.101\"/>\r\n",
       "</g>\r\n",
       "<!-- 15 -->\r\n",
       "<g id=\"node16\" class=\"node\"><title>15</title>\r\n",
       "<polygon fill=\"#e58139\" fill-opacity=\"0.666667\" stroke=\"black\" points=\"570,-573 468,-573 468,-505 570,-505 570,-573\"/>\r\n",
       "<text text-anchor=\"middle\" x=\"519\" y=\"-557.8\" font-family=\"Times New Roman,serif\" font-size=\"14.00\">std40 &lt;= 0.026</text>\r\n",
       "<text text-anchor=\"middle\" x=\"519\" y=\"-542.8\" font-family=\"Times New Roman,serif\" font-size=\"14.00\">mse = 0.0</text>\r\n",
       "<text text-anchor=\"middle\" x=\"519\" y=\"-527.8\" font-family=\"Times New Roman,serif\" font-size=\"14.00\">samples = 968</text>\r\n",
       "<text text-anchor=\"middle\" x=\"519\" y=\"-512.8\" font-family=\"Times New Roman,serif\" font-size=\"14.00\">value = 0.003</text>\r\n",
       "</g>\r\n",
       "<!-- 14&#45;&gt;15 -->\r\n",
       "<g id=\"edge15\" class=\"edge\"><title>14&#45;&gt;15</title>\r\n",
       "<path fill=\"none\" stroke=\"black\" d=\"M519,-608.884C519,-600.778 519,-591.982 519,-583.472\"/>\r\n",
       "<polygon fill=\"black\" stroke=\"black\" points=\"522.5,-583.299 519,-573.299 515.5,-583.299 522.5,-583.299\"/>\r\n",
       "</g>\r\n",
       "<!-- 28 -->\r\n",
       "<g id=\"node29\" class=\"node\"><title>28</title>\r\n",
       "<polygon fill=\"#e58139\" fill-opacity=\"0.305882\" stroke=\"black\" points=\"686,-565.5 588,-565.5 588,-512.5 686,-512.5 686,-565.5\"/>\r\n",
       "<text text-anchor=\"middle\" x=\"637\" y=\"-550.3\" font-family=\"Times New Roman,serif\" font-size=\"14.00\">mse = 0.0</text>\r\n",
       "<text text-anchor=\"middle\" x=\"637\" y=\"-535.3\" font-family=\"Times New Roman,serif\" font-size=\"14.00\">samples = 149</text>\r\n",
       "<text text-anchor=\"middle\" x=\"637\" y=\"-520.3\" font-family=\"Times New Roman,serif\" font-size=\"14.00\">value = &#45;0.003</text>\r\n",
       "</g>\r\n",
       "<!-- 14&#45;&gt;28 -->\r\n",
       "<g id=\"edge28\" class=\"edge\"><title>14&#45;&gt;28</title>\r\n",
       "<path fill=\"none\" stroke=\"black\" d=\"M557.311,-608.884C570.925,-597.116 586.221,-583.894 599.745,-572.203\"/>\r\n",
       "<polygon fill=\"black\" stroke=\"black\" points=\"602.2,-574.707 607.477,-565.52 597.623,-569.412 602.2,-574.707\"/>\r\n",
       "</g>\r\n",
       "<!-- 16 -->\r\n",
       "<g id=\"node17\" class=\"node\"><title>16</title>\r\n",
       "<polygon fill=\"#e58139\" fill-opacity=\"0.619608\" stroke=\"black\" points=\"570,-469 468,-469 468,-401 570,-401 570,-469\"/>\r\n",
       "<text text-anchor=\"middle\" x=\"519\" y=\"-453.8\" font-family=\"Times New Roman,serif\" font-size=\"14.00\">std40 &lt;= 0.019</text>\r\n",
       "<text text-anchor=\"middle\" x=\"519\" y=\"-438.8\" font-family=\"Times New Roman,serif\" font-size=\"14.00\">mse = 0.0</text>\r\n",
       "<text text-anchor=\"middle\" x=\"519\" y=\"-423.8\" font-family=\"Times New Roman,serif\" font-size=\"14.00\">samples = 846</text>\r\n",
       "<text text-anchor=\"middle\" x=\"519\" y=\"-408.8\" font-family=\"Times New Roman,serif\" font-size=\"14.00\">value = 0.002</text>\r\n",
       "</g>\r\n",
       "<!-- 15&#45;&gt;16 -->\r\n",
       "<g id=\"edge16\" class=\"edge\"><title>15&#45;&gt;16</title>\r\n",
       "<path fill=\"none\" stroke=\"black\" d=\"M519,-504.884C519,-496.778 519,-487.982 519,-479.472\"/>\r\n",
       "<polygon fill=\"black\" stroke=\"black\" points=\"522.5,-479.299 519,-469.299 515.5,-479.299 522.5,-479.299\"/>\r\n",
       "</g>\r\n",
       "<!-- 27 -->\r\n",
       "<g id=\"node28\" class=\"node\"><title>27</title>\r\n",
       "<polygon fill=\"#e58139\" stroke=\"black\" points=\"686,-461.5 588,-461.5 588,-408.5 686,-408.5 686,-461.5\"/>\r\n",
       "<text text-anchor=\"middle\" x=\"637\" y=\"-446.3\" font-family=\"Times New Roman,serif\" font-size=\"14.00\">mse = 0.001</text>\r\n",
       "<text text-anchor=\"middle\" x=\"637\" y=\"-431.3\" font-family=\"Times New Roman,serif\" font-size=\"14.00\">samples = 122</text>\r\n",
       "<text text-anchor=\"middle\" x=\"637\" y=\"-416.3\" font-family=\"Times New Roman,serif\" font-size=\"14.00\">value = 0.008</text>\r\n",
       "</g>\r\n",
       "<!-- 15&#45;&gt;27 -->\r\n",
       "<g id=\"edge27\" class=\"edge\"><title>15&#45;&gt;27</title>\r\n",
       "<path fill=\"none\" stroke=\"black\" d=\"M557.311,-504.884C570.925,-493.116 586.221,-479.894 599.745,-468.203\"/>\r\n",
       "<polygon fill=\"black\" stroke=\"black\" points=\"602.2,-470.707 607.477,-461.52 597.623,-465.412 602.2,-470.707\"/>\r\n",
       "</g>\r\n",
       "<!-- 17 -->\r\n",
       "<g id=\"node18\" class=\"node\"><title>17</title>\r\n",
       "<polygon fill=\"#e58139\" fill-opacity=\"0.682353\" stroke=\"black\" points=\"567,-365 469,-365 469,-297 567,-297 567,-365\"/>\r\n",
       "<text text-anchor=\"middle\" x=\"518\" y=\"-349.8\" font-family=\"Times New Roman,serif\" font-size=\"14.00\">ret5 &lt;= 0.029</text>\r\n",
       "<text text-anchor=\"middle\" x=\"518\" y=\"-334.8\" font-family=\"Times New Roman,serif\" font-size=\"14.00\">mse = 0.0</text>\r\n",
       "<text text-anchor=\"middle\" x=\"518\" y=\"-319.8\" font-family=\"Times New Roman,serif\" font-size=\"14.00\">samples = 657</text>\r\n",
       "<text text-anchor=\"middle\" x=\"518\" y=\"-304.8\" font-family=\"Times New Roman,serif\" font-size=\"14.00\">value = 0.003</text>\r\n",
       "</g>\r\n",
       "<!-- 16&#45;&gt;17 -->\r\n",
       "<g id=\"edge17\" class=\"edge\"><title>16&#45;&gt;17</title>\r\n",
       "<path fill=\"none\" stroke=\"black\" d=\"M518.675,-400.884C518.596,-392.778 518.51,-383.982 518.426,-375.472\"/>\r\n",
       "<polygon fill=\"black\" stroke=\"black\" points=\"521.924,-375.265 518.326,-365.299 514.925,-375.333 521.924,-375.265\"/>\r\n",
       "</g>\r\n",
       "<!-- 26 -->\r\n",
       "<g id=\"node27\" class=\"node\"><title>26</title>\r\n",
       "<polygon fill=\"#e58139\" fill-opacity=\"0.400000\" stroke=\"black\" points=\"683,-357.5 585,-357.5 585,-304.5 683,-304.5 683,-357.5\"/>\r\n",
       "<text text-anchor=\"middle\" x=\"634\" y=\"-342.3\" font-family=\"Times New Roman,serif\" font-size=\"14.00\">mse = 0.0</text>\r\n",
       "<text text-anchor=\"middle\" x=\"634\" y=\"-327.3\" font-family=\"Times New Roman,serif\" font-size=\"14.00\">samples = 189</text>\r\n",
       "<text text-anchor=\"middle\" x=\"634\" y=\"-312.3\" font-family=\"Times New Roman,serif\" font-size=\"14.00\">value = &#45;0.001</text>\r\n",
       "</g>\r\n",
       "<!-- 16&#45;&gt;26 -->\r\n",
       "<g id=\"edge26\" class=\"edge\"><title>16&#45;&gt;26</title>\r\n",
       "<path fill=\"none\" stroke=\"black\" d=\"M556.337,-400.884C569.605,-389.116 584.512,-375.894 597.692,-364.203\"/>\r\n",
       "<polygon fill=\"black\" stroke=\"black\" points=\"600.069,-366.774 605.228,-357.52 595.424,-361.537 600.069,-366.774\"/>\r\n",
       "</g>\r\n",
       "<!-- 18 -->\r\n",
       "<g id=\"node19\" class=\"node\"><title>18</title>\r\n",
       "<polygon fill=\"#e58139\" fill-opacity=\"0.592157\" stroke=\"black\" points=\"540,-261 438,-261 438,-193 540,-193 540,-261\"/>\r\n",
       "<text text-anchor=\"middle\" x=\"489\" y=\"-245.8\" font-family=\"Times New Roman,serif\" font-size=\"14.00\">std40 &lt;= 0.015</text>\r\n",
       "<text text-anchor=\"middle\" x=\"489\" y=\"-230.8\" font-family=\"Times New Roman,serif\" font-size=\"14.00\">mse = 0.0</text>\r\n",
       "<text text-anchor=\"middle\" x=\"489\" y=\"-215.8\" font-family=\"Times New Roman,serif\" font-size=\"14.00\">samples = 361</text>\r\n",
       "<text text-anchor=\"middle\" x=\"489\" y=\"-200.8\" font-family=\"Times New Roman,serif\" font-size=\"14.00\">value = 0.002</text>\r\n",
       "</g>\r\n",
       "<!-- 17&#45;&gt;18 -->\r\n",
       "<g id=\"edge18\" class=\"edge\"><title>17&#45;&gt;18</title>\r\n",
       "<path fill=\"none\" stroke=\"black\" d=\"M508.585,-296.884C506.255,-288.689 503.724,-279.789 501.28,-271.192\"/>\r\n",
       "<polygon fill=\"black\" stroke=\"black\" points=\"504.569,-269.961 498.467,-261.299 497.836,-271.875 504.569,-269.961\"/>\r\n",
       "</g>\r\n",
       "<!-- 23 -->\r\n",
       "<g id=\"node24\" class=\"node\"><title>23</title>\r\n",
       "<polygon fill=\"#e58139\" fill-opacity=\"0.788235\" stroke=\"black\" points=\"657.5,-261 558.5,-261 558.5,-193 657.5,-193 657.5,-261\"/>\r\n",
       "<text text-anchor=\"middle\" x=\"608\" y=\"-245.8\" font-family=\"Times New Roman,serif\" font-size=\"14.00\">ret10 &lt;= 0.066</text>\r\n",
       "<text text-anchor=\"middle\" x=\"608\" y=\"-230.8\" font-family=\"Times New Roman,serif\" font-size=\"14.00\">mse = 0.0</text>\r\n",
       "<text text-anchor=\"middle\" x=\"608\" y=\"-215.8\" font-family=\"Times New Roman,serif\" font-size=\"14.00\">samples = 296</text>\r\n",
       "<text text-anchor=\"middle\" x=\"608\" y=\"-200.8\" font-family=\"Times New Roman,serif\" font-size=\"14.00\">value = 0.005</text>\r\n",
       "</g>\r\n",
       "<!-- 17&#45;&gt;23 -->\r\n",
       "<g id=\"edge23\" class=\"edge\"><title>17&#45;&gt;23</title>\r\n",
       "<path fill=\"none\" stroke=\"black\" d=\"M547.22,-296.884C555.08,-287.976 563.675,-278.235 571.862,-268.957\"/>\r\n",
       "<polygon fill=\"black\" stroke=\"black\" points=\"574.626,-271.113 578.618,-261.299 569.378,-266.482 574.626,-271.113\"/>\r\n",
       "</g>\r\n",
       "<!-- 19 -->\r\n",
       "<g id=\"node20\" class=\"node\"><title>19</title>\r\n",
       "<polygon fill=\"#e58139\" fill-opacity=\"0.666667\" stroke=\"black\" points=\"423,-157 321,-157 321,-89 423,-89 423,-157\"/>\r\n",
       "<text text-anchor=\"middle\" x=\"372\" y=\"-141.8\" font-family=\"Times New Roman,serif\" font-size=\"14.00\">std40 &lt;= 0.013</text>\r\n",
       "<text text-anchor=\"middle\" x=\"372\" y=\"-126.8\" font-family=\"Times New Roman,serif\" font-size=\"14.00\">mse = 0.0</text>\r\n",
       "<text text-anchor=\"middle\" x=\"372\" y=\"-111.8\" font-family=\"Times New Roman,serif\" font-size=\"14.00\">samples = 220</text>\r\n",
       "<text text-anchor=\"middle\" x=\"372\" y=\"-96.8\" font-family=\"Times New Roman,serif\" font-size=\"14.00\">value = 0.003</text>\r\n",
       "</g>\r\n",
       "<!-- 18&#45;&gt;19 -->\r\n",
       "<g id=\"edge19\" class=\"edge\"><title>18&#45;&gt;19</title>\r\n",
       "<path fill=\"none\" stroke=\"black\" d=\"M451.013,-192.884C440.49,-183.709 428.952,-173.65 418.023,-164.123\"/>\r\n",
       "<polygon fill=\"black\" stroke=\"black\" points=\"420.034,-161.233 410.196,-157.299 415.434,-166.509 420.034,-161.233\"/>\r\n",
       "</g>\r\n",
       "<!-- 22 -->\r\n",
       "<g id=\"node23\" class=\"node\"><title>22</title>\r\n",
       "<polygon fill=\"#e58139\" fill-opacity=\"0.474510\" stroke=\"black\" points=\"539,-149.5 441,-149.5 441,-96.5 539,-96.5 539,-149.5\"/>\r\n",
       "<text text-anchor=\"middle\" x=\"490\" y=\"-134.3\" font-family=\"Times New Roman,serif\" font-size=\"14.00\">mse = 0.0</text>\r\n",
       "<text text-anchor=\"middle\" x=\"490\" y=\"-119.3\" font-family=\"Times New Roman,serif\" font-size=\"14.00\">samples = 141</text>\r\n",
       "<text text-anchor=\"middle\" x=\"490\" y=\"-104.3\" font-family=\"Times New Roman,serif\" font-size=\"14.00\">value = &#45;0.0</text>\r\n",
       "</g>\r\n",
       "<!-- 18&#45;&gt;22 -->\r\n",
       "<g id=\"edge22\" class=\"edge\"><title>18&#45;&gt;22</title>\r\n",
       "<path fill=\"none\" stroke=\"black\" d=\"M489.325,-192.884C489.428,-182.326 489.543,-170.597 489.648,-159.854\"/>\r\n",
       "<polygon fill=\"black\" stroke=\"black\" points=\"493.152,-159.554 489.75,-149.52 486.152,-159.485 493.152,-159.554\"/>\r\n",
       "</g>\r\n",
       "<!-- 20 -->\r\n",
       "<g id=\"node21\" class=\"node\"><title>20</title>\r\n",
       "<polygon fill=\"#e58139\" fill-opacity=\"0.533333\" stroke=\"black\" points=\"363,-53 265,-53 265,-0 363,-0 363,-53\"/>\r\n",
       "<text text-anchor=\"middle\" x=\"314\" y=\"-37.8\" font-family=\"Times New Roman,serif\" font-size=\"14.00\">mse = 0.0</text>\r\n",
       "<text text-anchor=\"middle\" x=\"314\" y=\"-22.8\" font-family=\"Times New Roman,serif\" font-size=\"14.00\">samples = 100</text>\r\n",
       "<text text-anchor=\"middle\" x=\"314\" y=\"-7.8\" font-family=\"Times New Roman,serif\" font-size=\"14.00\">value = 0.001</text>\r\n",
       "</g>\r\n",
       "<!-- 19&#45;&gt;20 -->\r\n",
       "<g id=\"edge20\" class=\"edge\"><title>19&#45;&gt;20</title>\r\n",
       "<path fill=\"none\" stroke=\"black\" d=\"M351.714,-88.9485C346.324,-80.1664 340.492,-70.6629 335.061,-61.815\"/>\r\n",
       "<polygon fill=\"black\" stroke=\"black\" points=\"338.01,-59.9287 329.796,-53.2367 332.044,-63.5903 338.01,-59.9287\"/>\r\n",
       "</g>\r\n",
       "<!-- 21 -->\r\n",
       "<g id=\"node22\" class=\"node\"><title>21</title>\r\n",
       "<polygon fill=\"#e58139\" fill-opacity=\"0.780392\" stroke=\"black\" points=\"479,-53 381,-53 381,-0 479,-0 479,-53\"/>\r\n",
       "<text text-anchor=\"middle\" x=\"430\" y=\"-37.8\" font-family=\"Times New Roman,serif\" font-size=\"14.00\">mse = 0.0</text>\r\n",
       "<text text-anchor=\"middle\" x=\"430\" y=\"-22.8\" font-family=\"Times New Roman,serif\" font-size=\"14.00\">samples = 120</text>\r\n",
       "<text text-anchor=\"middle\" x=\"430\" y=\"-7.8\" font-family=\"Times New Roman,serif\" font-size=\"14.00\">value = 0.005</text>\r\n",
       "</g>\r\n",
       "<!-- 19&#45;&gt;21 -->\r\n",
       "<g id=\"edge21\" class=\"edge\"><title>19&#45;&gt;21</title>\r\n",
       "<path fill=\"none\" stroke=\"black\" d=\"M392.286,-88.9485C397.676,-80.1664 403.508,-70.6629 408.939,-61.815\"/>\r\n",
       "<polygon fill=\"black\" stroke=\"black\" points=\"411.956,-63.5903 414.204,-53.2367 405.99,-59.9287 411.956,-63.5903\"/>\r\n",
       "</g>\r\n",
       "<!-- 24 -->\r\n",
       "<g id=\"node25\" class=\"node\"><title>24</title>\r\n",
       "<polygon fill=\"#e58139\" fill-opacity=\"0.894118\" stroke=\"black\" points=\"656,-149.5 558,-149.5 558,-96.5 656,-96.5 656,-149.5\"/>\r\n",
       "<text text-anchor=\"middle\" x=\"607\" y=\"-134.3\" font-family=\"Times New Roman,serif\" font-size=\"14.00\">mse = 0.0</text>\r\n",
       "<text text-anchor=\"middle\" x=\"607\" y=\"-119.3\" font-family=\"Times New Roman,serif\" font-size=\"14.00\">samples = 176</text>\r\n",
       "<text text-anchor=\"middle\" x=\"607\" y=\"-104.3\" font-family=\"Times New Roman,serif\" font-size=\"14.00\">value = 0.007</text>\r\n",
       "</g>\r\n",
       "<!-- 23&#45;&gt;24 -->\r\n",
       "<g id=\"edge24\" class=\"edge\"><title>23&#45;&gt;24</title>\r\n",
       "<path fill=\"none\" stroke=\"black\" d=\"M607.675,-192.884C607.572,-182.326 607.457,-170.597 607.352,-159.854\"/>\r\n",
       "<polygon fill=\"black\" stroke=\"black\" points=\"610.848,-159.485 607.25,-149.52 603.848,-159.554 610.848,-159.485\"/>\r\n",
       "</g>\r\n",
       "<!-- 25 -->\r\n",
       "<g id=\"node26\" class=\"node\"><title>25</title>\r\n",
       "<polygon fill=\"#e58139\" fill-opacity=\"0.635294\" stroke=\"black\" points=\"772,-149.5 674,-149.5 674,-96.5 772,-96.5 772,-149.5\"/>\r\n",
       "<text text-anchor=\"middle\" x=\"723\" y=\"-134.3\" font-family=\"Times New Roman,serif\" font-size=\"14.00\">mse = 0.0</text>\r\n",
       "<text text-anchor=\"middle\" x=\"723\" y=\"-119.3\" font-family=\"Times New Roman,serif\" font-size=\"14.00\">samples = 120</text>\r\n",
       "<text text-anchor=\"middle\" x=\"723\" y=\"-104.3\" font-family=\"Times New Roman,serif\" font-size=\"14.00\">value = 0.002</text>\r\n",
       "</g>\r\n",
       "<!-- 23&#45;&gt;25 -->\r\n",
       "<g id=\"edge25\" class=\"edge\"><title>23&#45;&gt;25</title>\r\n",
       "<path fill=\"none\" stroke=\"black\" d=\"M645.337,-192.884C658.605,-181.116 673.512,-167.894 686.692,-156.203\"/>\r\n",
       "<polygon fill=\"black\" stroke=\"black\" points=\"689.069,-158.774 694.228,-149.52 684.424,-153.537 689.069,-158.774\"/>\r\n",
       "</g>\r\n",
       "</g>\r\n",
       "</svg>\r\n"
      ],
      "text/plain": [
       "<graphviz.files.Source at 0x206797452b0>"
      ]
     },
     "execution_count": 11,
     "metadata": {},
     "output_type": "execute_result"
    }
   ],
   "source": [
    "# min_samples_leaf= 100\n",
    "dtr = DecisionTreeRegressor(random_state=1,min_samples_leaf = 100)\n",
    "dtr.fit(X_train, y_train)\n",
    "dot_data = tree.export_graphviz(dtr, \n",
    "                                out_file=None, \n",
    "                                filled=True,   \n",
    "                                feature_names=predictor_list)  \n",
    "graphviz.Source(dot_data)  "
   ]
  },
  {
   "cell_type": "code",
   "execution_count": 12,
   "metadata": {},
   "outputs": [
    {
     "data": {
      "image/svg+xml": [
       "<?xml version=\"1.0\" encoding=\"UTF-8\" standalone=\"no\"?>\r\n",
       "<!DOCTYPE svg PUBLIC \"-//W3C//DTD SVG 1.1//EN\"\r\n",
       " \"http://www.w3.org/Graphics/SVG/1.1/DTD/svg11.dtd\">\r\n",
       "<!-- Generated by graphviz version 2.38.0 (20140413.2041)\r\n",
       " -->\r\n",
       "<!-- Title: Tree Pages: 1 -->\r\n",
       "<svg width=\"283pt\" height=\"269pt\"\r\n",
       " viewBox=\"0.00 0.00 283.00 269.00\" xmlns=\"http://www.w3.org/2000/svg\" xmlns:xlink=\"http://www.w3.org/1999/xlink\">\r\n",
       "<g id=\"graph0\" class=\"graph\" transform=\"scale(1 1) rotate(0) translate(4 265)\">\r\n",
       "<title>Tree</title>\r\n",
       "<polygon fill=\"white\" stroke=\"none\" points=\"-4,4 -4,-265 279,-265 279,4 -4,4\"/>\r\n",
       "<!-- 0 -->\r\n",
       "<g id=\"node1\" class=\"node\"><title>0</title>\r\n",
       "<polygon fill=\"#e58139\" fill-opacity=\"0.376471\" stroke=\"black\" points=\"160,-261 56,-261 56,-193 160,-193 160,-261\"/>\r\n",
       "<text text-anchor=\"middle\" x=\"108\" y=\"-245.8\" font-family=\"Times New Roman,serif\" font-size=\"14.00\">ret5 &lt;= 0.001</text>\r\n",
       "<text text-anchor=\"middle\" x=\"108\" y=\"-230.8\" font-family=\"Times New Roman,serif\" font-size=\"14.00\">mse = 0.0</text>\r\n",
       "<text text-anchor=\"middle\" x=\"108\" y=\"-215.8\" font-family=\"Times New Roman,serif\" font-size=\"14.00\">samples = 2038</text>\r\n",
       "<text text-anchor=\"middle\" x=\"108\" y=\"-200.8\" font-family=\"Times New Roman,serif\" font-size=\"14.00\">value = 0.001</text>\r\n",
       "</g>\r\n",
       "<!-- 1 -->\r\n",
       "<g id=\"node2\" class=\"node\"><title>1</title>\r\n",
       "<polygon fill=\"none\" stroke=\"black\" points=\"98,-149.5 0,-149.5 0,-96.5 98,-96.5 98,-149.5\"/>\r\n",
       "<text text-anchor=\"middle\" x=\"49\" y=\"-134.3\" font-family=\"Times New Roman,serif\" font-size=\"14.00\">mse = 0.001</text>\r\n",
       "<text text-anchor=\"middle\" x=\"49\" y=\"-119.3\" font-family=\"Times New Roman,serif\" font-size=\"14.00\">samples = 906</text>\r\n",
       "<text text-anchor=\"middle\" x=\"49\" y=\"-104.3\" font-family=\"Times New Roman,serif\" font-size=\"14.00\">value = &#45;0.0</text>\r\n",
       "</g>\r\n",
       "<!-- 0&#45;&gt;1 -->\r\n",
       "<g id=\"edge1\" class=\"edge\"><title>0&#45;&gt;1</title>\r\n",
       "<path fill=\"none\" stroke=\"black\" d=\"M88.8444,-192.884C82.4193,-181.776 75.2445,-169.372 68.773,-158.184\"/>\r\n",
       "<polygon fill=\"black\" stroke=\"black\" points=\"71.7983,-156.424 63.7615,-149.52 65.7389,-159.929 71.7983,-156.424\"/>\r\n",
       "<text text-anchor=\"middle\" x=\"57.3106\" y=\"-169.973\" font-family=\"Times New Roman,serif\" font-size=\"14.00\">True</text>\r\n",
       "</g>\r\n",
       "<!-- 2 -->\r\n",
       "<g id=\"node3\" class=\"node\"><title>2</title>\r\n",
       "<polygon fill=\"#e58139\" fill-opacity=\"0.678431\" stroke=\"black\" points=\"220,-157 116,-157 116,-89 220,-89 220,-157\"/>\r\n",
       "<text text-anchor=\"middle\" x=\"168\" y=\"-141.8\" font-family=\"Times New Roman,serif\" font-size=\"14.00\">ret20 &lt;= 0.061</text>\r\n",
       "<text text-anchor=\"middle\" x=\"168\" y=\"-126.8\" font-family=\"Times New Roman,serif\" font-size=\"14.00\">mse = 0.0</text>\r\n",
       "<text text-anchor=\"middle\" x=\"168\" y=\"-111.8\" font-family=\"Times New Roman,serif\" font-size=\"14.00\">samples = 1132</text>\r\n",
       "<text text-anchor=\"middle\" x=\"168\" y=\"-96.8\" font-family=\"Times New Roman,serif\" font-size=\"14.00\">value = 0.002</text>\r\n",
       "</g>\r\n",
       "<!-- 0&#45;&gt;2 -->\r\n",
       "<g id=\"edge2\" class=\"edge\"><title>0&#45;&gt;2</title>\r\n",
       "<path fill=\"none\" stroke=\"black\" d=\"M127.48,-192.884C132.51,-184.332 137.992,-175.013 143.252,-166.072\"/>\r\n",
       "<polygon fill=\"black\" stroke=\"black\" points=\"146.359,-167.693 148.412,-157.299 140.325,-164.144 146.359,-167.693\"/>\r\n",
       "<text text-anchor=\"middle\" x=\"154.686\" y=\"-177.799\" font-family=\"Times New Roman,serif\" font-size=\"14.00\">False</text>\r\n",
       "</g>\r\n",
       "<!-- 3 -->\r\n",
       "<g id=\"node4\" class=\"node\"><title>3</title>\r\n",
       "<polygon fill=\"#e58139\" fill-opacity=\"0.407843\" stroke=\"black\" points=\"159,-53 61,-53 61,-0 159,-0 159,-53\"/>\r\n",
       "<text text-anchor=\"middle\" x=\"110\" y=\"-37.8\" font-family=\"Times New Roman,serif\" font-size=\"14.00\">mse = 0.0</text>\r\n",
       "<text text-anchor=\"middle\" x=\"110\" y=\"-22.8\" font-family=\"Times New Roman,serif\" font-size=\"14.00\">samples = 614</text>\r\n",
       "<text text-anchor=\"middle\" x=\"110\" y=\"-7.8\" font-family=\"Times New Roman,serif\" font-size=\"14.00\">value = 0.001</text>\r\n",
       "</g>\r\n",
       "<!-- 2&#45;&gt;3 -->\r\n",
       "<g id=\"edge3\" class=\"edge\"><title>2&#45;&gt;3</title>\r\n",
       "<path fill=\"none\" stroke=\"black\" d=\"M147.714,-88.9485C142.324,-80.1664 136.492,-70.6629 131.061,-61.815\"/>\r\n",
       "<polygon fill=\"black\" stroke=\"black\" points=\"134.01,-59.9287 125.796,-53.2367 128.044,-63.5903 134.01,-59.9287\"/>\r\n",
       "</g>\r\n",
       "<!-- 4 -->\r\n",
       "<g id=\"node5\" class=\"node\"><title>4</title>\r\n",
       "<polygon fill=\"#e58139\" stroke=\"black\" points=\"275,-53 177,-53 177,-0 275,-0 275,-53\"/>\r\n",
       "<text text-anchor=\"middle\" x=\"226\" y=\"-37.8\" font-family=\"Times New Roman,serif\" font-size=\"14.00\">mse = 0.0</text>\r\n",
       "<text text-anchor=\"middle\" x=\"226\" y=\"-22.8\" font-family=\"Times New Roman,serif\" font-size=\"14.00\">samples = 518</text>\r\n",
       "<text text-anchor=\"middle\" x=\"226\" y=\"-7.8\" font-family=\"Times New Roman,serif\" font-size=\"14.00\">value = 0.003</text>\r\n",
       "</g>\r\n",
       "<!-- 2&#45;&gt;4 -->\r\n",
       "<g id=\"edge4\" class=\"edge\"><title>2&#45;&gt;4</title>\r\n",
       "<path fill=\"none\" stroke=\"black\" d=\"M188.286,-88.9485C193.676,-80.1664 199.508,-70.6629 204.939,-61.815\"/>\r\n",
       "<polygon fill=\"black\" stroke=\"black\" points=\"207.956,-63.5903 210.204,-53.2367 201.99,-59.9287 207.956,-63.5903\"/>\r\n",
       "</g>\r\n",
       "</g>\r\n",
       "</svg>\r\n"
      ],
      "text/plain": [
       "<graphviz.files.Source at 0x20679745e48>"
      ]
     },
     "execution_count": 12,
     "metadata": {},
     "output_type": "execute_result"
    }
   ],
   "source": [
    "# min_samples_leaf= 500\n",
    "dtr = DecisionTreeRegressor(random_state=1,min_samples_leaf = 500)\n",
    "dtr.fit(X_train, y_train)\n",
    "\n",
    "dot_data = tree.export_graphviz(dtr, \n",
    "                                out_file=None, \n",
    "                                filled=True,   \n",
    "                                feature_names=predictor_list)  \n",
    "graphviz.Source(dot_data)  "
   ]
  },
  {
   "cell_type": "code",
   "execution_count": 13,
   "metadata": {},
   "outputs": [
    {
     "data": {
      "image/svg+xml": [
       "<?xml version=\"1.0\" encoding=\"UTF-8\" standalone=\"no\"?>\r\n",
       "<!DOCTYPE svg PUBLIC \"-//W3C//DTD SVG 1.1//EN\"\r\n",
       " \"http://www.w3.org/Graphics/SVG/1.1/DTD/svg11.dtd\">\r\n",
       "<!-- Generated by graphviz version 2.38.0 (20140413.2041)\r\n",
       " -->\r\n",
       "<!-- Title: Tree Pages: 1 -->\r\n",
       "<svg width=\"234pt\" height=\"165pt\"\r\n",
       " viewBox=\"0.00 0.00 234.00 165.00\" xmlns=\"http://www.w3.org/2000/svg\" xmlns:xlink=\"http://www.w3.org/1999/xlink\">\r\n",
       "<g id=\"graph0\" class=\"graph\" transform=\"scale(1 1) rotate(0) translate(4 161)\">\r\n",
       "<title>Tree</title>\r\n",
       "<polygon fill=\"white\" stroke=\"none\" points=\"-4,4 -4,-161 230,-161 230,4 -4,4\"/>\r\n",
       "<!-- 0 -->\r\n",
       "<g id=\"node1\" class=\"node\"><title>0</title>\r\n",
       "<polygon fill=\"#e58139\" fill-opacity=\"0.509804\" stroke=\"black\" points=\"165,-157 61,-157 61,-89 165,-89 165,-157\"/>\r\n",
       "<text text-anchor=\"middle\" x=\"113\" y=\"-141.8\" font-family=\"Times New Roman,serif\" font-size=\"14.00\">ret5 &lt;= 0.006</text>\r\n",
       "<text text-anchor=\"middle\" x=\"113\" y=\"-126.8\" font-family=\"Times New Roman,serif\" font-size=\"14.00\">mse = 0.0</text>\r\n",
       "<text text-anchor=\"middle\" x=\"113\" y=\"-111.8\" font-family=\"Times New Roman,serif\" font-size=\"14.00\">samples = 2038</text>\r\n",
       "<text text-anchor=\"middle\" x=\"113\" y=\"-96.8\" font-family=\"Times New Roman,serif\" font-size=\"14.00\">value = 0.001</text>\r\n",
       "</g>\r\n",
       "<!-- 1 -->\r\n",
       "<g id=\"node2\" class=\"node\"><title>1</title>\r\n",
       "<polygon fill=\"none\" stroke=\"black\" points=\"104,-53 0,-53 0,-0 104,-0 104,-53\"/>\r\n",
       "<text text-anchor=\"middle\" x=\"52\" y=\"-37.8\" font-family=\"Times New Roman,serif\" font-size=\"14.00\">mse = 0.001</text>\r\n",
       "<text text-anchor=\"middle\" x=\"52\" y=\"-22.8\" font-family=\"Times New Roman,serif\" font-size=\"14.00\">samples = 1000</text>\r\n",
       "<text text-anchor=\"middle\" x=\"52\" y=\"-7.8\" font-family=\"Times New Roman,serif\" font-size=\"14.00\">value = 0.0</text>\r\n",
       "</g>\r\n",
       "<!-- 0&#45;&gt;1 -->\r\n",
       "<g id=\"edge1\" class=\"edge\"><title>0&#45;&gt;1</title>\r\n",
       "<path fill=\"none\" stroke=\"black\" d=\"M91.6652,-88.9485C85.9963,-80.1664 79.8618,-70.6629 74.1504,-61.815\"/>\r\n",
       "<polygon fill=\"black\" stroke=\"black\" points=\"76.977,-59.7402 68.6131,-53.2367 71.0959,-63.5365 76.977,-59.7402\"/>\r\n",
       "<text text-anchor=\"middle\" x=\"63.3481\" y=\"-73.976\" font-family=\"Times New Roman,serif\" font-size=\"14.00\">True</text>\r\n",
       "</g>\r\n",
       "<!-- 2 -->\r\n",
       "<g id=\"node3\" class=\"node\"><title>2</title>\r\n",
       "<polygon fill=\"#e58139\" stroke=\"black\" points=\"226,-53 122,-53 122,-0 226,-0 226,-53\"/>\r\n",
       "<text text-anchor=\"middle\" x=\"174\" y=\"-37.8\" font-family=\"Times New Roman,serif\" font-size=\"14.00\">mse = 0.0</text>\r\n",
       "<text text-anchor=\"middle\" x=\"174\" y=\"-22.8\" font-family=\"Times New Roman,serif\" font-size=\"14.00\">samples = 1038</text>\r\n",
       "<text text-anchor=\"middle\" x=\"174\" y=\"-7.8\" font-family=\"Times New Roman,serif\" font-size=\"14.00\">value = 0.002</text>\r\n",
       "</g>\r\n",
       "<!-- 0&#45;&gt;2 -->\r\n",
       "<g id=\"edge2\" class=\"edge\"><title>0&#45;&gt;2</title>\r\n",
       "<path fill=\"none\" stroke=\"black\" d=\"M134.335,-88.9485C140.004,-80.1664 146.138,-70.6629 151.85,-61.815\"/>\r\n",
       "<polygon fill=\"black\" stroke=\"black\" points=\"154.904,-63.5365 157.387,-53.2367 149.023,-59.7402 154.904,-63.5365\"/>\r\n",
       "<text text-anchor=\"middle\" x=\"162.652\" y=\"-73.976\" font-family=\"Times New Roman,serif\" font-size=\"14.00\">False</text>\r\n",
       "</g>\r\n",
       "</g>\r\n",
       "</svg>\r\n"
      ],
      "text/plain": [
       "<graphviz.files.Source at 0x2067974b438>"
      ]
     },
     "execution_count": 13,
     "metadata": {},
     "output_type": "execute_result"
    }
   ],
   "source": [
    "# min_samples_leaf= 1000\n",
    "dtr = DecisionTreeRegressor(random_state=1,min_samples_leaf = 1000)\n",
    "dtr.fit(X_train, y_train)\n",
    "\n",
    "dot_data = tree.export_graphviz(dtr, \n",
    "                                out_file=None, \n",
    "                                filled=True,   \n",
    "                                feature_names=predictor_list)  \n",
    "graphviz.Source(dot_data)  "
   ]
  },
  {
   "cell_type": "markdown",
   "metadata": {},
   "source": [
    "To practice, create a regression tree model with min_samples_leaf as 100, 500 and 1000 and plot the tree to visualize the difference."
   ]
  },
  {
   "cell_type": "markdown",
   "metadata": {},
   "source": [
    "###  <font color='red'> For small sample sizes we will experince OVERFITTING and \n",
    "###  <font color='red'> For large sample size we will experience UNDERFITTING"
   ]
  },
  {
   "cell_type": "markdown",
   "metadata": {},
   "source": [
    "CONTINUING WITH OUR MODEL WITH MIN_SAMPLES_LEAF = 400"
   ]
  },
  {
   "cell_type": "code",
   "execution_count": 14,
   "metadata": {},
   "outputs": [
    {
     "data": {
      "image/svg+xml": [
       "<?xml version=\"1.0\" encoding=\"UTF-8\" standalone=\"no\"?>\r\n",
       "<!DOCTYPE svg PUBLIC \"-//W3C//DTD SVG 1.1//EN\"\r\n",
       " \"http://www.w3.org/Graphics/SVG/1.1/DTD/svg11.dtd\">\r\n",
       "<!-- Generated by graphviz version 2.38.0 (20140413.2041)\r\n",
       " -->\r\n",
       "<!-- Title: Tree Pages: 1 -->\r\n",
       "<svg width=\"457pt\" height=\"269pt\"\r\n",
       " viewBox=\"0.00 0.00 457.00 269.00\" xmlns=\"http://www.w3.org/2000/svg\" xmlns:xlink=\"http://www.w3.org/1999/xlink\">\r\n",
       "<g id=\"graph0\" class=\"graph\" transform=\"scale(1 1) rotate(0) translate(4 265)\">\r\n",
       "<title>Tree</title>\r\n",
       "<polygon fill=\"white\" stroke=\"none\" points=\"-4,4 -4,-265 453,-265 453,4 -4,4\"/>\r\n",
       "<!-- 0 -->\r\n",
       "<g id=\"node1\" class=\"node\"><title>0</title>\r\n",
       "<polygon fill=\"#e58139\" fill-opacity=\"0.592157\" stroke=\"black\" points=\"276,-261 172,-261 172,-193 276,-193 276,-261\"/>\r\n",
       "<text text-anchor=\"middle\" x=\"224\" y=\"-245.8\" font-family=\"Times New Roman,serif\" font-size=\"14.00\">ret5 &lt;= 0.001</text>\r\n",
       "<text text-anchor=\"middle\" x=\"224\" y=\"-230.8\" font-family=\"Times New Roman,serif\" font-size=\"14.00\">mse = 0.0</text>\r\n",
       "<text text-anchor=\"middle\" x=\"224\" y=\"-215.8\" font-family=\"Times New Roman,serif\" font-size=\"14.00\">samples = 2038</text>\r\n",
       "<text text-anchor=\"middle\" x=\"224\" y=\"-200.8\" font-family=\"Times New Roman,serif\" font-size=\"14.00\">value = 0.001</text>\r\n",
       "</g>\r\n",
       "<!-- 1 -->\r\n",
       "<g id=\"node2\" class=\"node\"><title>1</title>\r\n",
       "<polygon fill=\"#e58139\" fill-opacity=\"0.364706\" stroke=\"black\" points=\"215,-157 111,-157 111,-89 215,-89 215,-157\"/>\r\n",
       "<text text-anchor=\"middle\" x=\"163\" y=\"-141.8\" font-family=\"Times New Roman,serif\" font-size=\"14.00\">ret10 &lt;= &#45;0.018</text>\r\n",
       "<text text-anchor=\"middle\" x=\"163\" y=\"-126.8\" font-family=\"Times New Roman,serif\" font-size=\"14.00\">mse = 0.001</text>\r\n",
       "<text text-anchor=\"middle\" x=\"163\" y=\"-111.8\" font-family=\"Times New Roman,serif\" font-size=\"14.00\">samples = 906</text>\r\n",
       "<text text-anchor=\"middle\" x=\"163\" y=\"-96.8\" font-family=\"Times New Roman,serif\" font-size=\"14.00\">value = &#45;0.0</text>\r\n",
       "</g>\r\n",
       "<!-- 0&#45;&gt;1 -->\r\n",
       "<g id=\"edge1\" class=\"edge\"><title>0&#45;&gt;1</title>\r\n",
       "<path fill=\"none\" stroke=\"black\" d=\"M204.195,-192.884C199.081,-184.332 193.508,-175.013 188.161,-166.072\"/>\r\n",
       "<polygon fill=\"black\" stroke=\"black\" points=\"191.051,-164.085 182.914,-157.299 185.043,-167.678 191.051,-164.085\"/>\r\n",
       "<text text-anchor=\"middle\" x=\"176.816\" y=\"-177.844\" font-family=\"Times New Roman,serif\" font-size=\"14.00\">True</text>\r\n",
       "</g>\r\n",
       "<!-- 4 -->\r\n",
       "<g id=\"node5\" class=\"node\"><title>4</title>\r\n",
       "<polygon fill=\"#e58139\" fill-opacity=\"0.772549\" stroke=\"black\" points=\"337,-157 233,-157 233,-89 337,-89 337,-157\"/>\r\n",
       "<text text-anchor=\"middle\" x=\"285\" y=\"-141.8\" font-family=\"Times New Roman,serif\" font-size=\"14.00\">std5 &lt;= 0.016</text>\r\n",
       "<text text-anchor=\"middle\" x=\"285\" y=\"-126.8\" font-family=\"Times New Roman,serif\" font-size=\"14.00\">mse = 0.0</text>\r\n",
       "<text text-anchor=\"middle\" x=\"285\" y=\"-111.8\" font-family=\"Times New Roman,serif\" font-size=\"14.00\">samples = 1132</text>\r\n",
       "<text text-anchor=\"middle\" x=\"285\" y=\"-96.8\" font-family=\"Times New Roman,serif\" font-size=\"14.00\">value = 0.002</text>\r\n",
       "</g>\r\n",
       "<!-- 0&#45;&gt;4 -->\r\n",
       "<g id=\"edge4\" class=\"edge\"><title>0&#45;&gt;4</title>\r\n",
       "<path fill=\"none\" stroke=\"black\" d=\"M243.805,-192.884C248.919,-184.332 254.492,-175.013 259.839,-166.072\"/>\r\n",
       "<polygon fill=\"black\" stroke=\"black\" points=\"262.957,-167.678 265.086,-157.299 256.949,-164.085 262.957,-167.678\"/>\r\n",
       "<text text-anchor=\"middle\" x=\"271.184\" y=\"-177.844\" font-family=\"Times New Roman,serif\" font-size=\"14.00\">False</text>\r\n",
       "</g>\r\n",
       "<!-- 2 -->\r\n",
       "<g id=\"node3\" class=\"node\"><title>2</title>\r\n",
       "<polygon fill=\"#e58139\" fill-opacity=\"0.698039\" stroke=\"black\" points=\"98,-53 0,-53 0,-0 98,-0 98,-53\"/>\r\n",
       "<text text-anchor=\"middle\" x=\"49\" y=\"-37.8\" font-family=\"Times New Roman,serif\" font-size=\"14.00\">mse = 0.001</text>\r\n",
       "<text text-anchor=\"middle\" x=\"49\" y=\"-22.8\" font-family=\"Times New Roman,serif\" font-size=\"14.00\">samples = 472</text>\r\n",
       "<text text-anchor=\"middle\" x=\"49\" y=\"-7.8\" font-family=\"Times New Roman,serif\" font-size=\"14.00\">value = 0.002</text>\r\n",
       "</g>\r\n",
       "<!-- 1&#45;&gt;2 -->\r\n",
       "<g id=\"edge2\" class=\"edge\"><title>1&#45;&gt;2</title>\r\n",
       "<path fill=\"none\" stroke=\"black\" d=\"M123.128,-88.9485C111.762,-79.526 99.393,-69.2731 88.0743,-59.8906\"/>\r\n",
       "<polygon fill=\"black\" stroke=\"black\" points=\"89.9799,-56.924 80.0475,-53.2367 85.5126,-62.3132 89.9799,-56.924\"/>\r\n",
       "</g>\r\n",
       "<!-- 3 -->\r\n",
       "<g id=\"node4\" class=\"node\"><title>3</title>\r\n",
       "<polygon fill=\"none\" stroke=\"black\" points=\"214,-53 116,-53 116,-0 214,-0 214,-53\"/>\r\n",
       "<text text-anchor=\"middle\" x=\"165\" y=\"-37.8\" font-family=\"Times New Roman,serif\" font-size=\"14.00\">mse = 0.0</text>\r\n",
       "<text text-anchor=\"middle\" x=\"165\" y=\"-22.8\" font-family=\"Times New Roman,serif\" font-size=\"14.00\">samples = 434</text>\r\n",
       "<text text-anchor=\"middle\" x=\"165\" y=\"-7.8\" font-family=\"Times New Roman,serif\" font-size=\"14.00\">value = &#45;0.003</text>\r\n",
       "</g>\r\n",
       "<!-- 1&#45;&gt;3 -->\r\n",
       "<g id=\"edge3\" class=\"edge\"><title>1&#45;&gt;3</title>\r\n",
       "<path fill=\"none\" stroke=\"black\" d=\"M163.7,-88.9485C163.874,-80.7153 164.061,-71.848 164.238,-63.4814\"/>\r\n",
       "<polygon fill=\"black\" stroke=\"black\" points=\"167.743,-63.3086 164.455,-53.2367 160.744,-63.1604 167.743,-63.3086\"/>\r\n",
       "</g>\r\n",
       "<!-- 5 -->\r\n",
       "<g id=\"node6\" class=\"node\"><title>5</title>\r\n",
       "<polygon fill=\"#e58139\" fill-opacity=\"0.623529\" stroke=\"black\" points=\"333,-53 235,-53 235,-0 333,-0 333,-53\"/>\r\n",
       "<text text-anchor=\"middle\" x=\"284\" y=\"-37.8\" font-family=\"Times New Roman,serif\" font-size=\"14.00\">mse = 0.0</text>\r\n",
       "<text text-anchor=\"middle\" x=\"284\" y=\"-22.8\" font-family=\"Times New Roman,serif\" font-size=\"14.00\">samples = 680</text>\r\n",
       "<text text-anchor=\"middle\" x=\"284\" y=\"-7.8\" font-family=\"Times New Roman,serif\" font-size=\"14.00\">value = 0.001</text>\r\n",
       "</g>\r\n",
       "<!-- 4&#45;&gt;5 -->\r\n",
       "<g id=\"edge5\" class=\"edge\"><title>4&#45;&gt;5</title>\r\n",
       "<path fill=\"none\" stroke=\"black\" d=\"M284.65,-88.9485C284.563,-80.7153 284.469,-71.848 284.381,-63.4814\"/>\r\n",
       "<polygon fill=\"black\" stroke=\"black\" points=\"287.878,-63.1991 284.272,-53.2367 280.878,-63.2732 287.878,-63.1991\"/>\r\n",
       "</g>\r\n",
       "<!-- 6 -->\r\n",
       "<g id=\"node7\" class=\"node\"><title>6</title>\r\n",
       "<polygon fill=\"#e58139\" stroke=\"black\" points=\"449,-53 351,-53 351,-0 449,-0 449,-53\"/>\r\n",
       "<text text-anchor=\"middle\" x=\"400\" y=\"-37.8\" font-family=\"Times New Roman,serif\" font-size=\"14.00\">mse = 0.0</text>\r\n",
       "<text text-anchor=\"middle\" x=\"400\" y=\"-22.8\" font-family=\"Times New Roman,serif\" font-size=\"14.00\">samples = 452</text>\r\n",
       "<text text-anchor=\"middle\" x=\"400\" y=\"-7.8\" font-family=\"Times New Roman,serif\" font-size=\"14.00\">value = 0.004</text>\r\n",
       "</g>\r\n",
       "<!-- 4&#45;&gt;6 -->\r\n",
       "<g id=\"edge6\" class=\"edge\"><title>4&#45;&gt;6</title>\r\n",
       "<path fill=\"none\" stroke=\"black\" d=\"M325.221,-88.9485C336.799,-79.4346 349.407,-69.074 360.915,-59.6175\"/>\r\n",
       "<polygon fill=\"black\" stroke=\"black\" points=\"363.176,-62.2897 368.68,-53.2367 358.732,-56.8814 363.176,-62.2897\"/>\r\n",
       "</g>\r\n",
       "</g>\r\n",
       "</svg>\r\n"
      ],
      "text/plain": [
       "<graphviz.files.Source at 0x2067974b780>"
      ]
     },
     "execution_count": 14,
     "metadata": {},
     "output_type": "execute_result"
    }
   ],
   "source": [
    "# Decision tree with min_samples_leaf= 400\n",
    "dtr = DecisionTreeRegressor(min_samples_leaf = 400)\n",
    "dtr.fit(X_train, y_train)\n",
    "dot_data = tree.export_graphviz(dtr, \n",
    "                                out_file=None, \n",
    "                                filled=True,   \n",
    "                                feature_names=predictor_list)  \n",
    "graphviz.Source(dot_data)  "
   ]
  },
  {
   "cell_type": "markdown",
   "metadata": {},
   "source": [
    "### Trading rule based on the leaf node with the highest target variable value\n",
    "\n",
    "The above tree can be used to define a long rule. The rule can be paraphrased as when cond1 and cond2 then buy, else do not buy. So predicted_signal is '1' when buy and '0' otherwise. STATE THE RULE BELOW."
   ]
  },
  {
   "cell_type": "code",
   "execution_count": 15,
   "metadata": {},
   "outputs": [
    {
     "data": {
      "text/plain": [
       "<Figure size 640x480 with 1 Axes>"
      ]
     },
     "metadata": {},
     "output_type": "display_data"
    }
   ],
   "source": [
    "import numpy as np\n",
    "data['predicted_signal'] = np.where(((data.ret5 > 0.001) & (data.std5 > 0.016)), 1, 0)\n",
    "\n",
    "\n",
    "# Visualizing the signal predicted for last 10 days\n",
    "import matplotlib.pyplot as plt\n",
    "import seaborn\n",
    "data.predicted_signal[-10:].plot()\n",
    "plt.show()"
   ]
  },
  {
   "cell_type": "markdown",
   "metadata": {},
   "source": [
    "---------------------------------------------------------\n",
    "### <font color='red'>ANSWER\n",
    "#### data.ret5 > 0.001 & data.std5 > 0.016 is that condition\n",
    "---------------------------------------------------------"
   ]
  },
  {
   "cell_type": "markdown",
   "metadata": {},
   "source": [
    "The above graph shows the signal predicted for last 10 days. The strategy returns are generated by multiplying the future returns by the predicted signal and stored in the strategy_returns."
   ]
  },
  {
   "cell_type": "code",
   "execution_count": 16,
   "metadata": {},
   "outputs": [],
   "source": [
    "data['strategy_returns_single_leaf'] = data.retFut1 * data.predicted_signal"
   ]
  },
  {
   "cell_type": "markdown",
   "metadata": {},
   "source": [
    "### Trading rule based on the full tree\n",
    "\n",
    "We define a trading rule based on the expected response of every single leaf. If the expected value is positive then we buy the Apple Inc. stock and otherwise, we sell the stock. STATE THE RULE BELOW"
   ]
  },
  {
   "cell_type": "code",
   "execution_count": 17,
   "metadata": {},
   "outputs": [],
   "source": [
    "data['predicted_signal'] = np.where(dtr.predict(X) > 0, 1,-1)\n",
    "data['strategy_returns_full_tree'] = data.retFut1 * data.predicted_signal"
   ]
  },
  {
   "cell_type": "markdown",
   "metadata": {},
   "source": [
    "-----------------------------------------------\n",
    "### <font color='red'>ANSWER\n",
    "#### model.predict (X) > 0 (if true = 1, if false = -1)\n",
    "-----------------------------------------------"
   ]
  },
  {
   "cell_type": "markdown",
   "metadata": {},
   "source": [
    "### Performance computation for single leaf"
   ]
  },
  {
   "cell_type": "markdown",
   "metadata": {},
   "source": [
    "Sharpe Ratio\n",
    "\n",
    "The Sharpe ratio is calculated as follows:\n",
    "\n",
    "<img src=\"https://d2a032ejo53cab.cloudfront.net/Glossary/R2TAJa6K/Sharpe-1.jpg\"></img>\n",
    "\n",
    "Where\n",
    "- N is the number of trading days in a year\n",
    "- Rf is the risk-free rate\n",
    "- Std dev is the standard deviation\n",
    "\n",
    "Sharpe ratio represents how good the strategy performance is for the risk (standard deviation) taken to achieve it. The higher the Sharpe ratio the better is the strategy. Generally, a Sharpe ratio of greater than 1.5 is preferred."
   ]
  },
  {
   "cell_type": "code",
   "execution_count": 18,
   "metadata": {},
   "outputs": [],
   "source": [
    "# The below function returns the Sharpe ratio for the excess returns (Strategy returns - Risk free rate) passed to it.\n",
    "def annualized_sharpe_ratio(returns, N=252):\n",
    "    return np.sqrt(N) * returns.mean() / returns.std()"
   ]
  },
  {
   "cell_type": "markdown",
   "metadata": {},
   "source": [
    "We calculate the Sharpe ratio for the strategy in train and test dataset. The risk-free rate is assumed to be 5% p.a."
   ]
  },
  {
   "cell_type": "code",
   "execution_count": 19,
   "metadata": {},
   "outputs": [
    {
     "name": "stdout",
     "output_type": "stream",
     "text": [
      "Single-leaf Sharpe Ratio- Training data :  0.8166862313864148\n",
      "Single-leaf Sharpe Ratio- Test data :  1.8971686928417455\n"
     ]
    }
   ],
   "source": [
    "# Sharpe ratio\n",
    "# Train dataset\n",
    "data['excess_daily_strategy_return'] = data.strategy_returns_single_leaf - 0.05/252\n",
    "sharpe_train_single_leaf = annualized_sharpe_ratio(data.excess_daily_strategy_return.iloc[:train_length])\n",
    "# Test dataset\n",
    "sharpe_test_single_leaf = annualized_sharpe_ratio(data.excess_daily_strategy_return.iloc[train_length:])\n",
    "\n",
    "print(\"Single-leaf Sharpe Ratio- Training data : \",sharpe_train_single_leaf)\n",
    "print(\"Single-leaf Sharpe Ratio- Test data : \",sharpe_test_single_leaf)"
   ]
  },
  {
   "cell_type": "markdown",
   "metadata": {},
   "source": [
    "### Strategy CAGR\n",
    "CAGR represents the compounded annual returns of the strategy. The strategy CAGR is computed as follows:\n",
    "\n",
    "<i>(Cumulative returns + 1)^(252/number of days) - 1</i>\n",
    "\n",
    "where cumulative returns are the total strategy returns and number of days represent the total trading days."
   ]
  },
  {
   "cell_type": "code",
   "execution_count": 20,
   "metadata": {},
   "outputs": [],
   "source": [
    "def CAGR(returns):\n",
    "    cumulative_returns = returns.cumsum().iloc[-1]\n",
    "    period_in_days = len(returns)\n",
    "    return 100*((cumulative_returns+1)**(252.0/period_in_days)-1)"
   ]
  },
  {
   "cell_type": "code",
   "execution_count": 21,
   "metadata": {},
   "outputs": [
    {
     "name": "stdout",
     "output_type": "stream",
     "text": [
      "Single-leaf CAGR- Training data :  11.978401197952703\n",
      "Single-leaf CAGR- Test data :  16.329384729063577\n"
     ]
    }
   ],
   "source": [
    "# Single Leaf\n",
    "# Train dataset\n",
    "ret_train_single_leaf = CAGR(data.strategy_returns_single_leaf.iloc[:train_length])\n",
    "# Test dataset\n",
    "ret_test_single_leaf = CAGR(data.strategy_returns_single_leaf.iloc[train_length:])\n",
    "\n",
    "print(\"Single-leaf CAGR- Training data : \",ret_train_single_leaf)\n",
    "print(\"Single-leaf CAGR- Test data : \",ret_test_single_leaf)"
   ]
  },
  {
   "cell_type": "markdown",
   "metadata": {},
   "source": [
    "### Performance computation for full tree"
   ]
  },
  {
   "cell_type": "code",
   "execution_count": 22,
   "metadata": {},
   "outputs": [
    {
     "name": "stdout",
     "output_type": "stream",
     "text": [
      "Full tree Sharpe Ratio- Training data :  1.582702197211522\n",
      "Full tree Sharpe Ratio- Test data :  0.5253108919395207\n",
      "Full tree CAGR- Training data :  23.601038678395202\n",
      "Full tree CAGR- Test data :  14.54245657464417\n"
     ]
    }
   ],
   "source": [
    "# Full Tree\n",
    "\n",
    "# Sharpe ratio\n",
    "# Train dataset\n",
    "data['excess_daily_strategy_return'] = data.strategy_returns_full_tree - 0.05/252\n",
    "sharpe_train_full_tree = annualized_sharpe_ratio(data.excess_daily_strategy_return.iloc[:train_length])\n",
    "# Test dataset\n",
    "sharpe_test_full_tree = annualized_sharpe_ratio(data.excess_daily_strategy_return.iloc[train_length:])\n",
    "\n",
    "print(\"Full tree Sharpe Ratio- Training data : \",sharpe_train_full_tree)\n",
    "print(\"Full tree Sharpe Ratio- Test data : \",sharpe_test_full_tree)\n",
    "\n",
    "# CAGR\n",
    "# Train dataset\n",
    "ret_train_full_tree = CAGR(data.strategy_returns_full_tree.iloc[:train_length])\n",
    "# Test dataset\n",
    "ret_test_full_tree = CAGR(data.strategy_returns_full_tree.iloc[train_length:])\n",
    "\n",
    "\n",
    "print(\"Full tree CAGR- Training data : \",ret_train_full_tree)\n",
    "print(\"Full tree CAGR- Test data : \",ret_test_full_tree)\n"
   ]
  },
  {
   "cell_type": "markdown",
   "metadata": {},
   "source": [
    "### Performance Comparision of single leaf and full tree"
   ]
  },
  {
   "cell_type": "markdown",
   "metadata": {},
   "source": [
    "Cumulative returns in train dataset."
   ]
  },
  {
   "cell_type": "code",
   "execution_count": 23,
   "metadata": {},
   "outputs": [
    {
     "data": {
      "image/png": "[encoded data removed]",
      "text/plain": [
       "<Figure size 432x288 with 1 Axes>"
      ]
     },
     "metadata": {
      "needs_background": "light"
     },
     "output_type": "display_data"
    }
   ],
   "source": [
    "# Plot the cumulative returns for single leaf in train dataset\n",
    "data.strategy_returns_single_leaf[:train_length].cumsum().plot()\n",
    "\n",
    "# Plot the cumulative returns for full tree in train dataset\n",
    "data.strategy_returns_full_tree[:train_length].cumsum().plot()\n",
    "\n",
    "# Show the legend\n",
    "plt.legend()\n",
    "\n",
    "# Show the graph\n",
    "plt.show()"
   ]
  },
  {
   "cell_type": "markdown",
   "metadata": {},
   "source": [
    "Cumulative returns in the test dataset."
   ]
  },
  {
   "cell_type": "code",
   "execution_count": 24,
   "metadata": {},
   "outputs": [
    {
     "data": {
      "image/png": "[encoded data removed]",
      "text/plain": [
       "<Figure size 432x288 with 1 Axes>"
      ]
     },
     "metadata": {
      "needs_background": "light"
     },
     "output_type": "display_data"
    }
   ],
   "source": [
    "# Plot the cumulative returns for single leaf in train dataset\n",
    "data.strategy_returns_single_leaf[train_length:].cumsum().plot()\n",
    "\n",
    "# Plot the cumulative returns for full tree in train dataset\n",
    "data.strategy_returns_full_tree[train_length:].cumsum().plot()\n",
    "\n",
    "# Show the legend\n",
    "plt.legend()\n",
    "\n",
    "# Show the graph\n",
    "plt.show()"
   ]
  },
  {
   "cell_type": "code",
   "execution_count": 25,
   "metadata": {},
   "outputs": [
    {
     "name": "stdout",
     "output_type": "stream",
     "text": [
      "|              |   Train (Single Leaf) |   Train (Full Tree) |   Test (Single Leaf) |   Test (Full Tree) |\n",
      "|--------------+-----------------------+---------------------+----------------------+--------------------|\n",
      "| CAGR         |             11.9784   |             23.601  |             16.3294  |          14.5425   |\n",
      "| Sharpe Ratio |              0.816686 |              1.5827 |              1.89717 |           0.525311 |\n"
     ]
    }
   ],
   "source": [
    "from tabulate import tabulate\n",
    "\n",
    "# Tabulate the performance in train and test dataset for single leaf and full tree\n",
    "print (tabulate(\n",
    "        [             \n",
    "            ['CAGR', ret_train_single_leaf, ret_train_full_tree, ret_test_single_leaf, ret_test_full_tree],\n",
    "            ['Sharpe Ratio', sharpe_train_single_leaf, sharpe_train_full_tree, sharpe_test_single_leaf, sharpe_test_full_tree],\n",
    "        ], \n",
    "        headers=['Train (Single Leaf)', 'Train (Full Tree)', 'Test (Single Leaf)',  'Test (Full Tree)'], \n",
    "    tablefmt='orgtbl'))"
   ]
  },
  {
   "cell_type": "markdown",
   "metadata": {},
   "source": [
    " In the next section, we will explore some ensemble techniques for reducing overfitting so that we can, in fact, use all leaves for prediction.\n",
    "<BR>"
   ]
  },
  {
   "cell_type": "markdown",
   "metadata": {},
   "source": [
    "## APPENDIX"
   ]
  },
  {
   "cell_type": "markdown",
   "metadata": {},
   "source": [
    "### GRID SEARCH FOR MIN_SAMPLE_LEAF\n",
    "\n",
    "###  <font color='red'>To find the optimal sample size, the GridSearCV is been used in the following part</font> "
   ]
  },
  {
   "cell_type": "code",
   "execution_count": 26,
   "metadata": {},
   "outputs": [
    {
     "data": {
      "image/svg+xml": [
       "<?xml version=\"1.0\" encoding=\"UTF-8\" standalone=\"no\"?>\r\n",
       "<!DOCTYPE svg PUBLIC \"-//W3C//DTD SVG 1.1//EN\"\r\n",
       " \"http://www.w3.org/Graphics/SVG/1.1/DTD/svg11.dtd\">\r\n",
       "<!-- Generated by graphviz version 2.38.0 (20140413.2041)\r\n",
       " -->\r\n",
       "<!-- Title: Tree Pages: 1 -->\r\n",
       "<svg width=\"228pt\" height=\"165pt\"\r\n",
       " viewBox=\"0.00 0.00 228.00 165.00\" xmlns=\"http://www.w3.org/2000/svg\" xmlns:xlink=\"http://www.w3.org/1999/xlink\">\r\n",
       "<g id=\"graph0\" class=\"graph\" transform=\"scale(1 1) rotate(0) translate(4 161)\">\r\n",
       "<title>Tree</title>\r\n",
       "<polygon fill=\"white\" stroke=\"none\" points=\"-4,4 -4,-161 224,-161 224,4 -4,4\"/>\r\n",
       "<!-- 0 -->\r\n",
       "<g id=\"node1\" class=\"node\"><title>0</title>\r\n",
       "<polygon fill=\"#e58139\" fill-opacity=\"0.556863\" stroke=\"black\" points=\"160,-157 56,-157 56,-89 160,-89 160,-157\"/>\r\n",
       "<text text-anchor=\"middle\" x=\"108\" y=\"-141.8\" font-family=\"Times New Roman,serif\" font-size=\"14.00\">ret5 &lt;= 0.001</text>\r\n",
       "<text text-anchor=\"middle\" x=\"108\" y=\"-126.8\" font-family=\"Times New Roman,serif\" font-size=\"14.00\">mse = 0.0</text>\r\n",
       "<text text-anchor=\"middle\" x=\"108\" y=\"-111.8\" font-family=\"Times New Roman,serif\" font-size=\"14.00\">samples = 2038</text>\r\n",
       "<text text-anchor=\"middle\" x=\"108\" y=\"-96.8\" font-family=\"Times New Roman,serif\" font-size=\"14.00\">value = 0.001</text>\r\n",
       "</g>\r\n",
       "<!-- 1 -->\r\n",
       "<g id=\"node2\" class=\"node\"><title>1</title>\r\n",
       "<polygon fill=\"none\" stroke=\"black\" points=\"98,-53 0,-53 0,-0 98,-0 98,-53\"/>\r\n",
       "<text text-anchor=\"middle\" x=\"49\" y=\"-37.8\" font-family=\"Times New Roman,serif\" font-size=\"14.00\">mse = 0.001</text>\r\n",
       "<text text-anchor=\"middle\" x=\"49\" y=\"-22.8\" font-family=\"Times New Roman,serif\" font-size=\"14.00\">samples = 906</text>\r\n",
       "<text text-anchor=\"middle\" x=\"49\" y=\"-7.8\" font-family=\"Times New Roman,serif\" font-size=\"14.00\">value = &#45;0.0</text>\r\n",
       "</g>\r\n",
       "<!-- 0&#45;&gt;1 -->\r\n",
       "<g id=\"edge1\" class=\"edge\"><title>0&#45;&gt;1</title>\r\n",
       "<path fill=\"none\" stroke=\"black\" d=\"M87.3647,-88.9485C81.8817,-80.1664 75.9483,-70.6629 70.4242,-61.815\"/>\r\n",
       "<polygon fill=\"black\" stroke=\"black\" points=\"73.3333,-59.8656 65.0684,-53.2367 67.3955,-63.5728 73.3333,-59.8656\"/>\r\n",
       "<text text-anchor=\"middle\" x=\"59.4353\" y=\"-73.8938\" font-family=\"Times New Roman,serif\" font-size=\"14.00\">True</text>\r\n",
       "</g>\r\n",
       "<!-- 2 -->\r\n",
       "<g id=\"node3\" class=\"node\"><title>2</title>\r\n",
       "<polygon fill=\"#e58139\" stroke=\"black\" points=\"220,-53 116,-53 116,-0 220,-0 220,-53\"/>\r\n",
       "<text text-anchor=\"middle\" x=\"168\" y=\"-37.8\" font-family=\"Times New Roman,serif\" font-size=\"14.00\">mse = 0.0</text>\r\n",
       "<text text-anchor=\"middle\" x=\"168\" y=\"-22.8\" font-family=\"Times New Roman,serif\" font-size=\"14.00\">samples = 1132</text>\r\n",
       "<text text-anchor=\"middle\" x=\"168\" y=\"-7.8\" font-family=\"Times New Roman,serif\" font-size=\"14.00\">value = 0.002</text>\r\n",
       "</g>\r\n",
       "<!-- 0&#45;&gt;2 -->\r\n",
       "<g id=\"edge2\" class=\"edge\"><title>0&#45;&gt;2</title>\r\n",
       "<path fill=\"none\" stroke=\"black\" d=\"M128.985,-88.9485C134.561,-80.1664 140.595,-70.6629 146.213,-61.815\"/>\r\n",
       "<polygon fill=\"black\" stroke=\"black\" points=\"149.254,-63.5549 151.659,-53.2367 143.344,-59.8028 149.254,-63.5549\"/>\r\n",
       "<text text-anchor=\"middle\" x=\"157.108\" y=\"-73.9358\" font-family=\"Times New Roman,serif\" font-size=\"14.00\">False</text>\r\n",
       "</g>\r\n",
       "</g>\r\n",
       "</svg>\r\n"
      ],
      "text/plain": [
       "<graphviz.files.Source at 0x2067a594470>"
      ]
     },
     "execution_count": 26,
     "metadata": {},
     "output_type": "execute_result"
    }
   ],
   "source": [
    "from sklearn.model_selection import GridSearchCV\n",
    "param_grid = {\"min_samples_leaf\":[50, 100, 200, 300, 400, 500, 650,850,1000]}\n",
    "regressorTreeCV = GridSearchCV(DecisionTreeRegressor(random_state=1), param_grid, cv=5)\n",
    "regressorTreeCV.fit(X_train, y_train)\n",
    "dtr = regressorTreeCV.best_estimator_\n",
    "dot_data = tree.export_graphviz(dtr, \n",
    "                                out_file=None, \n",
    "                                filled=True,   \n",
    "                                feature_names=predictor_list)  \n",
    "graphviz.Source(dot_data)  "
   ]
  },
  {
   "cell_type": "code",
   "execution_count": 27,
   "metadata": {},
   "outputs": [
    {
     "data": {
      "text/plain": [
       "DecisionTreeRegressor(criterion='mse', max_depth=None, max_features=None,\n",
       "           max_leaf_nodes=None, min_impurity_decrease=0.0,\n",
       "           min_impurity_split=None, min_samples_leaf=850,\n",
       "           min_samples_split=2, min_weight_fraction_leaf=0.0,\n",
       "           presort=False, random_state=1, splitter='best')"
      ]
     },
     "execution_count": 27,
     "metadata": {},
     "output_type": "execute_result"
    }
   ],
   "source": [
    "regressorTreeCV.best_estimator_"
   ]
  },
  {
   "cell_type": "markdown",
   "metadata": {},
   "source": [
    "USING GRID SEARCH, we get the best min_sample_leaf = 850 as the arg max"
   ]
  },
  {
   "cell_type": "markdown",
   "metadata": {},
   "source": [
    "#### USING STD5> 0.0155, IT RESULTS IN HIGHER SHARPE RATIO. CODE AND THE OUTPUT FOR YOUR REFERENCE IS SHOWN BELOW"
   ]
  },
  {
   "cell_type": "code",
   "execution_count": 28,
   "metadata": {},
   "outputs": [
    {
     "data": {
      "image/png": "[encoded data removed]",
      "text/plain": [
       "<Figure size 432x288 with 1 Axes>"
      ]
     },
     "metadata": {
      "needs_background": "light"
     },
     "output_type": "display_data"
    }
   ],
   "source": [
    "import numpy as np\n",
    "data['predicted_signal'] = np.where(((data.ret5 > 0.001) & (data.std5 > 0.0155)), 1, 0)\n",
    "\n",
    "\n",
    "# Visualizing the signal predicted for last 10 days\n",
    "import matplotlib.pyplot as plt\n",
    "import seaborn\n",
    "data.predicted_signal[-10:].plot()\n",
    "plt.show()"
   ]
  },
  {
   "cell_type": "code",
   "execution_count": 29,
   "metadata": {},
   "outputs": [],
   "source": [
    "data['strategy_returns_single_leaf'] = data.retFut1 * data.predicted_signal"
   ]
  },
  {
   "cell_type": "code",
   "execution_count": 30,
   "metadata": {},
   "outputs": [],
   "source": [
    "data['predicted_signal'] = np.where(dtr.predict(X) > 0, 1,-1)\n",
    "data['strategy_returns_full_tree'] = data.retFut1 * data.predicted_signal"
   ]
  },
  {
   "cell_type": "code",
   "execution_count": 31,
   "metadata": {},
   "outputs": [],
   "source": [
    "# The below function returns the Sharpe ratio for the excess returns (Strategy returns - Risk free rate) passed to it.\n",
    "def annualized_sharpe_ratio(returns, N=252):\n",
    "    return np.sqrt(N) * returns.mean() / returns.std()"
   ]
  },
  {
   "cell_type": "code",
   "execution_count": 32,
   "metadata": {},
   "outputs": [
    {
     "name": "stdout",
     "output_type": "stream",
     "text": [
      "Single-leaf Sharpe Ratio- Training data :  0.9428705964564625\n",
      "Single-leaf Sharpe Ratio- Test data :  2.102552757814452\n"
     ]
    }
   ],
   "source": [
    "# Sharpe ratio\n",
    "# Train dataset\n",
    "data['excess_daily_strategy_return'] = data.strategy_returns_single_leaf - 0.05/252\n",
    "sharpe_train_single_leaf = annualized_sharpe_ratio(data.excess_daily_strategy_return.iloc[:train_length])\n",
    "# Test dataset\n",
    "sharpe_test_single_leaf = annualized_sharpe_ratio(data.excess_daily_strategy_return.iloc[train_length:])\n",
    "\n",
    "print(\"Single-leaf Sharpe Ratio- Training data : \",sharpe_train_single_leaf)\n",
    "print(\"Single-leaf Sharpe Ratio- Test data : \",sharpe_test_single_leaf)"
   ]
  },
  {
   "cell_type": "code",
   "execution_count": 33,
   "metadata": {},
   "outputs": [],
   "source": [
    "def CAGR(returns):\n",
    "    cumulative_returns = returns.cumsum().iloc[-1]\n",
    "    period_in_days = len(returns)\n",
    "    return 100*((cumulative_returns+1)**(252.0/period_in_days)-1)"
   ]
  },
  {
   "cell_type": "code",
   "execution_count": 34,
   "metadata": {},
   "outputs": [
    {
     "name": "stdout",
     "output_type": "stream",
     "text": [
      "Single-leaf CAGR- Training data :  12.972373696980256\n",
      "Single-leaf CAGR- Test data :  17.959795640920095\n"
     ]
    }
   ],
   "source": [
    "# Single Leaf\n",
    "# Train dataset\n",
    "ret_train_single_leaf = CAGR(data.strategy_returns_single_leaf.iloc[:train_length])\n",
    "# Test dataset\n",
    "ret_test_single_leaf = CAGR(data.strategy_returns_single_leaf.iloc[train_length:])\n",
    "\n",
    "print(\"Single-leaf CAGR- Training data : \",ret_train_single_leaf)\n",
    "print(\"Single-leaf CAGR- Test data : \",ret_test_single_leaf)"
   ]
  },
  {
   "cell_type": "code",
   "execution_count": 35,
   "metadata": {},
   "outputs": [
    {
     "name": "stdout",
     "output_type": "stream",
     "text": [
      "Full tree Sharpe Ratio- Training data :  0.9259157174311076\n",
      "Full tree Sharpe Ratio- Test data :  1.1915422225729035\n",
      "Full tree CAGR- Training data :  18.092808566907117\n",
      "Full tree CAGR- Test data :  25.656731557839187\n"
     ]
    }
   ],
   "source": [
    "# Full Tree\n",
    "\n",
    "# Sharpe ratio\n",
    "# Train dataset\n",
    "data['excess_daily_strategy_return'] = data.strategy_returns_full_tree - 0.05/252\n",
    "sharpe_train_full_tree = annualized_sharpe_ratio(data.excess_daily_strategy_return.iloc[:train_length])\n",
    "# Test dataset\n",
    "sharpe_test_full_tree = annualized_sharpe_ratio(data.excess_daily_strategy_return.iloc[train_length:])\n",
    "\n",
    "print(\"Full tree Sharpe Ratio- Training data : \",sharpe_train_full_tree)\n",
    "print(\"Full tree Sharpe Ratio- Test data : \",sharpe_test_full_tree)\n",
    "\n",
    "# CAGR\n",
    "# Train dataset\n",
    "ret_train_full_tree = CAGR(data.strategy_returns_full_tree.iloc[:train_length])\n",
    "# Test dataset\n",
    "ret_test_full_tree = CAGR(data.strategy_returns_full_tree.iloc[train_length:])\n",
    "\n",
    "\n",
    "print(\"Full tree CAGR- Training data : \",ret_train_full_tree)\n",
    "print(\"Full tree CAGR- Test data : \",ret_test_full_tree)\n"
   ]
  },
  {
   "cell_type": "code",
   "execution_count": 36,
   "metadata": {},
   "outputs": [
    {
     "name": "stdout",
     "output_type": "stream",
     "text": [
      "|              |   Train (Single Leaf) |   Train (Full Tree) |   Test (Single Leaf) |   Test (Full Tree) |\n",
      "|--------------+-----------------------+---------------------+----------------------+--------------------|\n",
      "| CAGR         |             12.9724   |           18.0928   |             17.9598  |           25.6567  |\n",
      "| Sharpe Ratio |              0.942871 |            0.925916 |              2.10255 |            1.19154 |\n"
     ]
    }
   ],
   "source": [
    "from tabulate import tabulate\n",
    "\n",
    "# Tabulate the performance in train and test dataset for single leaf and full tree\n",
    "print (tabulate(\n",
    "        [             \n",
    "            ['CAGR', ret_train_single_leaf, ret_train_full_tree, ret_test_single_leaf, ret_test_full_tree],\n",
    "            ['Sharpe Ratio', sharpe_train_single_leaf, sharpe_train_full_tree, sharpe_test_single_leaf, sharpe_test_full_tree],\n",
    "        ], \n",
    "        headers=['Train (Single Leaf)', 'Train (Full Tree)', 'Test (Single Leaf)',  'Test (Full Tree)'], \n",
    "    tablefmt='orgtbl'))"
   ]
  },
  {
   "cell_type": "markdown",
   "metadata": {},
   "source": [
    "##### WE CAN SEE THAT CHANGING THE VALUE FROM 0.016 TO 0.0155, SHARPE RATIO HAS INCREASD FROM 1.89 TO 2.10 AS WELL AS CAGR FROM 16.32 TO 17.959\n",
    "\n",
    "##### HENCE, SMALL CHANGE IN THESE VALUES HAVE A SUBSTANTIAL IMPACT ON THE MEASURES"
   ]
  }
 ],
 "metadata": {
  "kernelspec": {
   "display_name": "Python 3",
   "language": "python",
   "name": "python3"
  },
  "language_info": {
   "codemirror_mode": {
    "name": "ipython",
    "version": 3
   },
   "file_extension": ".py",
   "mimetype": "text/x-python",
   "name": "python",
   "nbconvert_exporter": "python",
   "pygments_lexer": "ipython3",
   "version": "3.6.7"
  }
 },
 "nbformat": 4,
 "nbformat_minor": 1
}
